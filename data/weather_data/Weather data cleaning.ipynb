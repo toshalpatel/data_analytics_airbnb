{
 "cells": [
  {
   "cell_type": "code",
   "execution_count": 5,
   "metadata": {},
   "outputs": [],
   "source": [
    "import pandas as pd"
   ]
  },
  {
   "cell_type": "code",
   "execution_count": 12,
   "metadata": {},
   "outputs": [],
   "source": [
    "weather_ini1 = pd.read_excel('2013-2020_weather1.xlsx')"
   ]
  },
  {
   "cell_type": "code",
   "execution_count": 16,
   "metadata": {},
   "outputs": [],
   "source": [
    "#We don't need all features that initial dataset has. Will keep only needed features\n",
    "weather_work_df = weather_ini1[['LATITUDE','LONGITUDE','DATE','AWND','PRCP','TMIN','TMAX','SNOW']]"
   ]
  },
  {
   "cell_type": "code",
   "execution_count": 18,
   "metadata": {},
   "outputs": [
    {
     "name": "stderr",
     "output_type": "stream",
     "text": [
      "/anaconda3/lib/python3.7/site-packages/ipykernel_launcher.py:1: SettingWithCopyWarning: \n",
      "A value is trying to be set on a copy of a slice from a DataFrame.\n",
      "Try using .loc[row_indexer,col_indexer] = value instead\n",
      "\n",
      "See the caveats in the documentation: http://pandas.pydata.org/pandas-docs/stable/indexing.html#indexing-view-versus-copy\n",
      "  \"\"\"Entry point for launching an IPython kernel.\n",
      "/anaconda3/lib/python3.7/site-packages/ipykernel_launcher.py:2: SettingWithCopyWarning: \n",
      "A value is trying to be set on a copy of a slice from a DataFrame.\n",
      "Try using .loc[row_indexer,col_indexer] = value instead\n",
      "\n",
      "See the caveats in the documentation: http://pandas.pydata.org/pandas-docs/stable/indexing.html#indexing-view-versus-copy\n",
      "  \n",
      "/anaconda3/lib/python3.7/site-packages/ipykernel_launcher.py:3: SettingWithCopyWarning: \n",
      "A value is trying to be set on a copy of a slice from a DataFrame.\n",
      "Try using .loc[row_indexer,col_indexer] = value instead\n",
      "\n",
      "See the caveats in the documentation: http://pandas.pydata.org/pandas-docs/stable/indexing.html#indexing-view-versus-copy\n",
      "  This is separate from the ipykernel package so we can avoid doing imports until\n"
     ]
    }
   ],
   "source": [
    "#average temperature during the day \n",
    "weather_work_df['TAV'] = (weather_work_df['TMAX'] +  weather_work_df['TMIN'])/2 \n",
    "\n",
    "#difference between Max and Min temp\n",
    "weather_work_df['TDIFF'] = weather_work_df['TMAX'] - weather_work_df['TMIN']\n",
    "\n",
    "weather_work_df['MONTH_YEAR'] = pd.to_datetime(weather_work_df['DATE']).dt.to_period('M')"
   ]
  },
  {
   "cell_type": "code",
   "execution_count": 23,
   "metadata": {},
   "outputs": [],
   "source": [
    "#Assign weather type - freezing, cold, cool, mild, warm, hot or swelter:\n",
    "\n",
    "weather_types = pd.read_excel('Weather_types.xlsx')\n",
    "weather_types = weather_types.rename(columns={\"Temp\": \"RTAV\"})\n",
    "\n",
    "weather_work_df['RTAV'] = round(weather_work_df['TAV'],0)\n",
    "weather_work_df_new = pd.merge(weather_work_df,weather_types,on=['RTAV'])"
   ]
  },
  {
   "cell_type": "code",
   "execution_count": 57,
   "metadata": {},
   "outputs": [],
   "source": [
    "#Here we add a few commutative features - TAV_Month, TDIFF_Month, TSNOW_Month\n",
    "\n",
    "#TAV_Month - Average temperature in the month\n",
    "df_temp = weather_work_df_new[['MONTH_YEAR','TAV']].groupby(['MONTH_YEAR']).mean()\n",
    "df_temp = df_temp.rename(columns={\"TAV\": \"TAV_Month\"})\n",
    "\n",
    "#TDIFF_Month - Max difference between temp during the day in the month \n",
    "df_temp['TDIFF_Month'] = weather_work_df_new[['MONTH_YEAR','TDIFF']].groupby(['MONTH_YEAR']).max() \n",
    "\n",
    "#TSNOW_Month - Total amount of snow during the month\n",
    "df_temp['TSNOW_Month'] = weather_work_df_new[['MONTH_YEAR','SNOW']].groupby(['MONTH_YEAR']).sum()"
   ]
  },
  {
   "cell_type": "code",
   "execution_count": 63,
   "metadata": {},
   "outputs": [],
   "source": [
    "weather_work_df_new = pd.merge(weather_work_df_new,df_temp,on=['MONTH_YEAR'])"
   ]
  },
  {
   "cell_type": "code",
   "execution_count": 64,
   "metadata": {},
   "outputs": [],
   "source": [
    "#save final dataframe to excel file\n",
    "weather_work_df_new.to_excel(\"weather_output.xlsx\")  "
   ]
  }
 ],
 "metadata": {
  "kernelspec": {
   "display_name": "Python 3",
   "language": "python",
   "name": "python3"
  },
  "language_info": {
   "codemirror_mode": {
    "name": "ipython",
    "version": 3
   },
   "file_extension": ".py",
   "mimetype": "text/x-python",
   "name": "python",
   "nbconvert_exporter": "python",
   "pygments_lexer": "ipython3",
   "version": "3.7.4"
  }
 },
 "nbformat": 4,
 "nbformat_minor": 4
}
