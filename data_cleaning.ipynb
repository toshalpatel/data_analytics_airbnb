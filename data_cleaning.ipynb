{
 "cells": [
  {
   "cell_type": "code",
   "execution_count": 2,
   "metadata": {},
   "outputs": [],
   "source": [
    "import numpy as np\n",
    "import pandas as pd\n",
    "from datetime import datetime\n",
    "import time\n",
    "import math\n",
    "from collections import Counter\n",
    "import matplotlib.pyplot as plt"
   ]
  },
  {
   "cell_type": "code",
   "execution_count": 51,
   "metadata": {
    "scrolled": true
   },
   "outputs": [
    {
     "name": "stdout",
     "output_type": "stream",
     "text": [
      "['id', 'last_scraped', 'host_id', 'host_since', 'host_location', 'host_response_time', 'host_response_rate', 'host_acceptance_rate', 'host_is_superhost', 'host_neighbourhood', 'instant_bookable', 'review_scores_checkin', 'review_scores_value', 'reviews_per_month', 'review_scores_communication', 'review_scores_location', 'calculated_host_listings_count', 'calculated_host_listings_count_shared_rooms', 'calculated_host_listings_count_private_rooms', 'calculated_host_listings_count_entire_homes', 'require_guest_profile_picture', 'require_guest_phone_verification', 'cancellation_policy', 'is_business_travel_ready', 'host_listings_count', 'host_total_listings_count', 'host_identity_verified', 'neighbourhood', 'neighbourhood_cleansed', 'neighbourhood_group_cleansed', 'city', 'zipcode', 'market', 'smart_location', 'latitude', 'longitude', 'property_type', 'room_type', 'accommodates', 'bathrooms', 'bedrooms', 'beds', 'bed_type', 'amenities', 'price', 'weekly_price', 'monthly_price', 'security_deposit', 'cleaning_fee', 'guests_included', 'extra_people', 'minimum_nights', 'maximum_nights', 'minimum_minimum_nights', 'maximum_minimum_nights', 'minimum_maximum_nights', 'maximum_maximum_nights', 'minimum_nights_avg_ntm', 'calendar_updated', 'has_availability', 'availability_30', 'availability_60', 'availability_90', 'availability_365', 'calendar_last_scraped', 'number_of_reviews', 'number_of_reviews_ltm', 'first_review', 'last_review', 'review_scores_rating', 'review_scores_accuracy', 'review_scores_cleanliness']\n"
     ]
    }
   ],
   "source": [
    "imp_cols = \"id,last_scraped,host_id,host_since,host_location,host_response_time,host_response_rate,host_acceptance_rate,host_is_superhost,host_neighbourhood,instant_bookable,review_scores_checkin,review_scores_value,reviews_per_month,review_scores_communication,review_scores_location,calculated_host_listings_count,calculated_host_listings_count_shared_rooms,calculated_host_listings_count_private_rooms,calculated_host_listings_count_entire_homes,require_guest_profile_picture,require_guest_phone_verification,cancellation_policy,is_business_travel_ready,host_listings_count,host_total_listings_count,host_identity_verified,neighbourhood,neighbourhood_cleansed,neighbourhood_group_cleansed,city,zipcode,market,smart_location,latitude,longitude,property_type,room_type,accommodates,bathrooms,bedrooms,beds,bed_type,amenities,price,weekly_price,monthly_price,security_deposit,cleaning_fee,guests_included,extra_people,minimum_nights,maximum_nights,minimum_minimum_nights,maximum_minimum_nights,minimum_maximum_nights,maximum_maximum_nights,minimum_nights_avg_ntm,calendar_updated,has_availability,availability_30,availability_60,availability_90,availability_365,calendar_last_scraped,number_of_reviews,number_of_reviews_ltm,first_review,last_review,review_scores_rating,review_scores_accuracy,review_scores_cleanliness\"\n",
    "imp_cols_list = imp_cols.split(\",\")\n",
    "print(imp_cols_list)\n",
    "\n",
    "data = pd.read_csv(\"data/concatenated_listings.csv\", usecols=imp_cols_list)"
   ]
  },
  {
   "cell_type": "markdown",
   "metadata": {},
   "source": [
    "## Exploring the data stats"
   ]
  },
  {
   "cell_type": "code",
   "execution_count": 52,
   "metadata": {},
   "outputs": [
    {
     "name": "stdout",
     "output_type": "stream",
     "text": [
      "Number of rows:  694977\n",
      "Number of cols:  72\n"
     ]
    }
   ],
   "source": [
    "print(\"Number of rows: \",len(data.index))\n",
    "print(\"Number of cols: \",len(data.columns))"
   ]
  },
  {
   "cell_type": "code",
   "execution_count": 53,
   "metadata": {
    "scrolled": true
   },
   "outputs": [
    {
     "data": {
      "text/html": [
       "<div>\n",
       "<style scoped>\n",
       "    .dataframe tbody tr th:only-of-type {\n",
       "        vertical-align: middle;\n",
       "    }\n",
       "\n",
       "    .dataframe tbody tr th {\n",
       "        vertical-align: top;\n",
       "    }\n",
       "\n",
       "    .dataframe thead th {\n",
       "        text-align: right;\n",
       "    }\n",
       "</style>\n",
       "<table border=\"1\" class=\"dataframe\">\n",
       "  <thead>\n",
       "    <tr style=\"text-align: right;\">\n",
       "      <th></th>\n",
       "      <th>id</th>\n",
       "      <th>last_scraped</th>\n",
       "      <th>host_id</th>\n",
       "      <th>host_since</th>\n",
       "      <th>host_location</th>\n",
       "      <th>host_response_time</th>\n",
       "      <th>host_response_rate</th>\n",
       "      <th>host_acceptance_rate</th>\n",
       "      <th>host_is_superhost</th>\n",
       "      <th>host_neighbourhood</th>\n",
       "      <th>...</th>\n",
       "      <th>instant_bookable</th>\n",
       "      <th>is_business_travel_ready</th>\n",
       "      <th>cancellation_policy</th>\n",
       "      <th>require_guest_profile_picture</th>\n",
       "      <th>require_guest_phone_verification</th>\n",
       "      <th>calculated_host_listings_count</th>\n",
       "      <th>calculated_host_listings_count_entire_homes</th>\n",
       "      <th>calculated_host_listings_count_private_rooms</th>\n",
       "      <th>calculated_host_listings_count_shared_rooms</th>\n",
       "      <th>reviews_per_month</th>\n",
       "    </tr>\n",
       "  </thead>\n",
       "  <tbody>\n",
       "    <tr>\n",
       "      <td>0</td>\n",
       "      <td>2515</td>\n",
       "      <td>2019-01-09</td>\n",
       "      <td>2758</td>\n",
       "      <td>2008-09-06</td>\n",
       "      <td>New York, New York, United States</td>\n",
       "      <td>NaN</td>\n",
       "      <td>NaN</td>\n",
       "      <td>NaN</td>\n",
       "      <td>t</td>\n",
       "      <td>Harlem</td>\n",
       "      <td>...</td>\n",
       "      <td>f</td>\n",
       "      <td>f</td>\n",
       "      <td>strict_14_with_grace_period</td>\n",
       "      <td>f</td>\n",
       "      <td>f</td>\n",
       "      <td>3</td>\n",
       "      <td>0</td>\n",
       "      <td>3</td>\n",
       "      <td>0</td>\n",
       "      <td>1.40</td>\n",
       "    </tr>\n",
       "    <tr>\n",
       "      <td>1</td>\n",
       "      <td>2539</td>\n",
       "      <td>2019-01-09</td>\n",
       "      <td>2787</td>\n",
       "      <td>2008-09-07</td>\n",
       "      <td>New York, New York, United States</td>\n",
       "      <td>within an hour</td>\n",
       "      <td>100%</td>\n",
       "      <td>NaN</td>\n",
       "      <td>t</td>\n",
       "      <td>Gravesend</td>\n",
       "      <td>...</td>\n",
       "      <td>f</td>\n",
       "      <td>f</td>\n",
       "      <td>moderate</td>\n",
       "      <td>f</td>\n",
       "      <td>f</td>\n",
       "      <td>8</td>\n",
       "      <td>0</td>\n",
       "      <td>5</td>\n",
       "      <td>3</td>\n",
       "      <td>0.24</td>\n",
       "    </tr>\n",
       "    <tr>\n",
       "      <td>2</td>\n",
       "      <td>2595</td>\n",
       "      <td>2019-01-09</td>\n",
       "      <td>2845</td>\n",
       "      <td>2008-09-09</td>\n",
       "      <td>New York, New York, United States</td>\n",
       "      <td>within a day</td>\n",
       "      <td>60%</td>\n",
       "      <td>NaN</td>\n",
       "      <td>f</td>\n",
       "      <td>Midtown</td>\n",
       "      <td>...</td>\n",
       "      <td>f</td>\n",
       "      <td>f</td>\n",
       "      <td>strict_14_with_grace_period</td>\n",
       "      <td>t</td>\n",
       "      <td>t</td>\n",
       "      <td>2</td>\n",
       "      <td>1</td>\n",
       "      <td>0</td>\n",
       "      <td>1</td>\n",
       "      <td>0.39</td>\n",
       "    </tr>\n",
       "    <tr>\n",
       "      <td>3</td>\n",
       "      <td>3330</td>\n",
       "      <td>2019-01-09</td>\n",
       "      <td>4177</td>\n",
       "      <td>2008-11-09</td>\n",
       "      <td>New York, New York, United States</td>\n",
       "      <td>within a day</td>\n",
       "      <td>100%</td>\n",
       "      <td>NaN</td>\n",
       "      <td>f</td>\n",
       "      <td>East Williamsburg</td>\n",
       "      <td>...</td>\n",
       "      <td>f</td>\n",
       "      <td>f</td>\n",
       "      <td>strict_14_with_grace_period</td>\n",
       "      <td>f</td>\n",
       "      <td>f</td>\n",
       "      <td>3</td>\n",
       "      <td>0</td>\n",
       "      <td>3</td>\n",
       "      <td>0</td>\n",
       "      <td>0.36</td>\n",
       "    </tr>\n",
       "    <tr>\n",
       "      <td>4</td>\n",
       "      <td>3647</td>\n",
       "      <td>2019-01-09</td>\n",
       "      <td>4632</td>\n",
       "      <td>2008-11-25</td>\n",
       "      <td>New York, New York, United States</td>\n",
       "      <td>a few days or more</td>\n",
       "      <td>0%</td>\n",
       "      <td>NaN</td>\n",
       "      <td>f</td>\n",
       "      <td>Harlem</td>\n",
       "      <td>...</td>\n",
       "      <td>f</td>\n",
       "      <td>f</td>\n",
       "      <td>strict_14_with_grace_period</td>\n",
       "      <td>t</td>\n",
       "      <td>t</td>\n",
       "      <td>1</td>\n",
       "      <td>0</td>\n",
       "      <td>1</td>\n",
       "      <td>0</td>\n",
       "      <td>NaN</td>\n",
       "    </tr>\n",
       "  </tbody>\n",
       "</table>\n",
       "<p>5 rows × 72 columns</p>\n",
       "</div>"
      ],
      "text/plain": [
       "     id last_scraped  host_id  host_since                      host_location  \\\n",
       "0  2515   2019-01-09     2758  2008-09-06  New York, New York, United States   \n",
       "1  2539   2019-01-09     2787  2008-09-07  New York, New York, United States   \n",
       "2  2595   2019-01-09     2845  2008-09-09  New York, New York, United States   \n",
       "3  3330   2019-01-09     4177  2008-11-09  New York, New York, United States   \n",
       "4  3647   2019-01-09     4632  2008-11-25  New York, New York, United States   \n",
       "\n",
       "   host_response_time host_response_rate host_acceptance_rate  \\\n",
       "0                 NaN                NaN                  NaN   \n",
       "1      within an hour               100%                  NaN   \n",
       "2        within a day                60%                  NaN   \n",
       "3        within a day               100%                  NaN   \n",
       "4  a few days or more                 0%                  NaN   \n",
       "\n",
       "  host_is_superhost host_neighbourhood  ...  instant_bookable  \\\n",
       "0                 t             Harlem  ...                 f   \n",
       "1                 t          Gravesend  ...                 f   \n",
       "2                 f            Midtown  ...                 f   \n",
       "3                 f  East Williamsburg  ...                 f   \n",
       "4                 f             Harlem  ...                 f   \n",
       "\n",
       "   is_business_travel_ready          cancellation_policy  \\\n",
       "0                         f  strict_14_with_grace_period   \n",
       "1                         f                     moderate   \n",
       "2                         f  strict_14_with_grace_period   \n",
       "3                         f  strict_14_with_grace_period   \n",
       "4                         f  strict_14_with_grace_period   \n",
       "\n",
       "  require_guest_profile_picture require_guest_phone_verification  \\\n",
       "0                             f                                f   \n",
       "1                             f                                f   \n",
       "2                             t                                t   \n",
       "3                             f                                f   \n",
       "4                             t                                t   \n",
       "\n",
       "  calculated_host_listings_count calculated_host_listings_count_entire_homes  \\\n",
       "0                              3                                           0   \n",
       "1                              8                                           0   \n",
       "2                              2                                           1   \n",
       "3                              3                                           0   \n",
       "4                              1                                           0   \n",
       "\n",
       "  calculated_host_listings_count_private_rooms  \\\n",
       "0                                            3   \n",
       "1                                            5   \n",
       "2                                            0   \n",
       "3                                            3   \n",
       "4                                            1   \n",
       "\n",
       "  calculated_host_listings_count_shared_rooms reviews_per_month  \n",
       "0                                           0              1.40  \n",
       "1                                           3              0.24  \n",
       "2                                           1              0.39  \n",
       "3                                           0              0.36  \n",
       "4                                           0               NaN  \n",
       "\n",
       "[5 rows x 72 columns]"
      ]
     },
     "execution_count": 53,
     "metadata": {},
     "output_type": "execute_result"
    }
   ],
   "source": [
    "data.head()"
   ]
  },
  {
   "cell_type": "markdown",
   "metadata": {},
   "source": [
    "#### Number of null values in each of the columns"
   ]
  },
  {
   "cell_type": "code",
   "execution_count": 54,
   "metadata": {
    "scrolled": true
   },
   "outputs": [
    {
     "data": {
      "text/plain": [
       "id                                                   0\n",
       "last_scraped                                         0\n",
       "host_id                                              0\n",
       "host_since                                         925\n",
       "host_location                                     2978\n",
       "                                                 ...  \n",
       "calculated_host_listings_count                       0\n",
       "calculated_host_listings_count_entire_homes          0\n",
       "calculated_host_listings_count_private_rooms         0\n",
       "calculated_host_listings_count_shared_rooms          0\n",
       "reviews_per_month                               141611\n",
       "Length: 72, dtype: int64"
      ]
     },
     "execution_count": 54,
     "metadata": {},
     "output_type": "execute_result"
    }
   ],
   "source": [
    "data.isna().sum()"
   ]
  },
  {
   "cell_type": "markdown",
   "metadata": {},
   "source": [
    "# Data Cleaning"
   ]
  },
  {
   "cell_type": "markdown",
   "metadata": {},
   "source": [
    "### Dropping null values and retaining imp rows and cols"
   ]
  },
  {
   "cell_type": "code",
   "execution_count": 55,
   "metadata": {},
   "outputs": [
    {
     "name": "stdout",
     "output_type": "stream",
     "text": [
      "Number of rows:  244905\n",
      "Number of cols:  69\n"
     ]
    }
   ],
   "source": [
    "data.drop(['host_acceptance_rate','weekly_price','monthly_price'], axis=1, inplace=True)\n",
    "\n",
    "data = data.dropna()\n",
    "\n",
    "print(\"Number of rows: \",len(data.index))\n",
    "print(\"Number of cols: \",len(data.columns))"
   ]
  },
  {
   "cell_type": "markdown",
   "metadata": {},
   "source": [
    "### Defining new DataFrame"
   ]
  },
  {
   "cell_type": "code",
   "execution_count": 56,
   "metadata": {},
   "outputs": [],
   "source": [
    "df = pd.DataFrame()\n",
    "df['listing_id'] = data['id']\n",
    "df['host_id'] = data['host_id']"
   ]
  },
  {
   "cell_type": "markdown",
   "metadata": {},
   "source": [
    "## Defining some cleaning functions"
   ]
  },
  {
   "cell_type": "code",
   "execution_count": 57,
   "metadata": {},
   "outputs": [],
   "source": [
    "#calculate day difference    \n",
    "def day_differ(time1,time2):\n",
    "    try:\n",
    "        if time1<=time2:\n",
    "            return (time2-time1).days\n",
    "        else:\n",
    "            return None\n",
    "    except Exception:pass\n",
    "    \n",
    "def get_bool(x):\n",
    "    if x == 't':\n",
    "        return True\n",
    "    elif x == 'f':\n",
    "        return False\n",
    "    else:\n",
    "        return None\n",
    "    \n",
    "def get_int(x,s):\n",
    "    x = str(x)\n",
    "    n_x = x.strip(s)\n",
    "    return n_x\n"
   ]
  },
  {
   "cell_type": "markdown",
   "metadata": {},
   "source": [
    "## Calculating the experience of the host\n",
    "\n",
    "We calculate the experience of the hosts based on how long he has been on the AirBnb platform."
   ]
  },
  {
   "cell_type": "code",
   "execution_count": 58,
   "metadata": {},
   "outputs": [
    {
     "name": "stdout",
     "output_type": "stream",
     "text": [
      "1     3776\n",
      "2     3774\n",
      "3     3713\n",
      "12    3623\n",
      "13    3620\n",
      "Name: experience, dtype: int64\n"
     ]
    }
   ],
   "source": [
    "data['last_scraped_datetime']=data['last_scraped'].apply(lambda x: datetime.strptime(x, \"%Y-%m-%d\"))\n",
    "data['host_since_datetime']=data['host_since'].apply(lambda x: datetime.strptime(x, \"%Y-%m-%d\"))\n",
    "df['last_scraped'] = data['last_scraped']\n",
    "df['experience'] = data.apply(lambda x: day_differ( x['host_since_datetime'], x['last_scraped_datetime']),axis=1)\n",
    "print(df['experience'].head())"
   ]
  },
  {
   "cell_type": "markdown",
   "metadata": {},
   "source": [
    "## Host descriptors\n",
    "\n",
    "host_response_time \\\n",
    "host_response_rate \\\n",
    "host_acceptance_rate \\\n",
    "host_is_superhost \\\n",
    "host_total_listings_count \\\n",
    "is_host_verified "
   ]
  },
  {
   "cell_type": "markdown",
   "metadata": {},
   "source": [
    "Unique values in host response time"
   ]
  },
  {
   "cell_type": "code",
   "execution_count": 59,
   "metadata": {},
   "outputs": [
    {
     "name": "stdout",
     "output_type": "stream",
     "text": [
      "['within an hour' 'within a day' 'within a few hours' 'a few days or more']\n"
     ]
    }
   ],
   "source": [
    "print(data['host_response_time'].unique())\n",
    "df['host_response_time'] = data['host_response_time']"
   ]
  },
  {
   "cell_type": "code",
   "execution_count": 60,
   "metadata": {},
   "outputs": [
    {
     "name": "stdout",
     "output_type": "stream",
     "text": [
      "['100%' '60%' '92%' '90%' '80%' '0%' '67%' '98%' '50%' '95%' '94%' '33%'\n",
      " '82%' '69%' '96%' '75%' '81%' '71%' '38%' '14%' '65%' '93%' '70%' '89%'\n",
      " '86%' '83%' '57%' '53%' '91%' '88%' '77%' '59%' '78%' '97%' '44%' '56%'\n",
      " '99%' '55%' '40%' '25%' '68%' '72%' '43%' '63%' '20%' '30%' '58%' '62%'\n",
      " '85%' '84%' '79%' '73%' '74%' '87%' '17%' '46%' '52%' '29%' '22%' '64%'\n",
      " '66%' '76%' '48%' '11%' '61%' '42%' '19%' '39%' '6%' '31%' '41%' '36%'\n",
      " '27%' '12%' '10%' '35%' '16%' '49%' '13%' '9%' '47%' '28%' '54%' '26%'\n",
      " '37%' '51%' '21%' '15%' '32%' '4%' '18%' '23%' '7%' '24%' '8%' '45%']\n",
      "1     100\n",
      "2      60\n",
      "3     100\n",
      "12     92\n",
      "13     92\n",
      "Name: host_response_rate, dtype: object\n"
     ]
    }
   ],
   "source": [
    "print(data['host_response_rate'].unique())\n",
    "    \n",
    "df['host_response_rate'] = data['host_response_rate'].apply(lambda x : get_int(x,'%'))\n",
    "print(df['host_response_rate'].head())"
   ]
  },
  {
   "cell_type": "code",
   "execution_count": 61,
   "metadata": {},
   "outputs": [
    {
     "name": "stdout",
     "output_type": "stream",
     "text": [
      "['t' 'f']\n",
      "1      True\n",
      "2     False\n",
      "3     False\n",
      "12     True\n",
      "13    False\n",
      "Name: host_is_superhost, dtype: bool \n",
      " 1     t\n",
      "2     f\n",
      "3     f\n",
      "12    t\n",
      "13    f\n",
      "Name: host_is_superhost, dtype: object\n"
     ]
    }
   ],
   "source": [
    "print(data['host_is_superhost'].unique())\n",
    "df['host_is_superhost'] = data['host_is_superhost'].apply(lambda x: get_bool(x))\n",
    "print(df['host_is_superhost'].head(),\"\\n\",data['host_is_superhost'].head())"
   ]
  },
  {
   "cell_type": "code",
   "execution_count": 62,
   "metadata": {},
   "outputs": [
    {
     "name": "stdout",
     "output_type": "stream",
     "text": [
      "1     8.0\n",
      "2     5.0\n",
      "3     4.0\n",
      "12    4.0\n",
      "13    1.0\n",
      "Name: host_total_listings_count, dtype: float64\n"
     ]
    }
   ],
   "source": [
    "print(data['host_total_listings_count'].head())\n",
    "df['host_total_listings_count'] = data['host_total_listings_count']"
   ]
  },
  {
   "cell_type": "code",
   "execution_count": 63,
   "metadata": {},
   "outputs": [
    {
     "name": "stdout",
     "output_type": "stream",
     "text": [
      "1     t\n",
      "2     t\n",
      "3     t\n",
      "12    t\n",
      "13    t\n",
      "Name: host_identity_verified, dtype: object\n",
      "1     True\n",
      "2     True\n",
      "3     True\n",
      "12    True\n",
      "13    True\n",
      "Name: host_identity_verified, dtype: bool\n"
     ]
    }
   ],
   "source": [
    "print(data['host_identity_verified'].head())\n",
    "df['host_identity_verified'] = data['host_identity_verified'].apply(lambda x: get_bool(x))\n",
    "print(df['host_identity_verified'].head())"
   ]
  },
  {
   "cell_type": "code",
   "execution_count": 64,
   "metadata": {},
   "outputs": [],
   "source": [
    "df['calculated_host_listings_count'] = data['calculated_host_listings_count']\n",
    "df['calculated_host_listings_count_entire_homes'] = data['calculated_host_listings_count_entire_homes']\n",
    "df['calculated_host_listings_count_private_rooms'] = data['calculated_host_listings_count_private_rooms']\n",
    "df['calculated_host_listings_count_shared_rooms'] = data['calculated_host_listings_count_shared_rooms']"
   ]
  },
  {
   "cell_type": "markdown",
   "metadata": {},
   "source": [
    "## Neighbourhood and Listing\n",
    "\n",
    "neighbourhood \\\n",
    "Market (check values) \\\n",
    "property_type \\\n",
    "room_type \\\n",
    "accommodates \\\n",
    "bathrooms \\\n",
    "bedrooms \\\n",
    "beds \\\n",
    "bed_type \\\n",
    "amenities\n"
   ]
  },
  {
   "cell_type": "markdown",
   "metadata": {},
   "source": [
    "#### Neighbourhood"
   ]
  },
  {
   "cell_type": "code",
   "execution_count": 65,
   "metadata": {},
   "outputs": [
    {
     "name": "stdout",
     "output_type": "stream",
     "text": [
      "['Kensington' 'Midtown' 'Williamsburg' 'Lower East Side' 'Upper West Side'\n",
      " 'Park Slope' 'West Village' 'Crown Heights' 'Alphabet City'\n",
      " 'Windsor Terrace' 'Inwood' 'Hamilton Heights' 'Harlem' 'Lefferts Garden'\n",
      " 'Bedford-Stuyvesant' 'Jamaica' 'Fort Greene' 'Greenpoint' 'Kips Bay'\n",
      " 'Flatbush' 'Soho' 'Chelsea' 'Prospect Heights' \"Hell's Kitchen\"\n",
      " 'East Harlem' 'Clinton Hill' 'Meatpacking District' 'Carroll Gardens'\n",
      " 'Gowanus' 'East Village' 'Upper East Side' 'Washington Heights'\n",
      " 'Flatlands' 'Boerum Hill' 'Sunnyside' 'Highbridge' 'Financial District'\n",
      " 'Ridgewood' 'Morningside Heights' 'Middle Village' 'Hudson Square'\n",
      " 'Cobble Hill' 'Flatiron District' 'Midtown East' 'Bushwick'\n",
      " 'West Brighton' 'Eastchester' 'Chinatown' 'Kingsbridge Heights'\n",
      " 'Brooklyn Heights' 'Astoria' 'Forest Hills' 'Nolita' 'Woodlawn'\n",
      " 'University Heights' 'Gramercy Park' 'Baychester'\n",
      " 'Times Square/Theatre District' 'Concourse' 'Sheepshead Bay' 'Bay Ridge'\n",
      " 'DUMBO' 'Richmond Hill' 'Midwood' 'Elmhurst' 'Jackson Heights'\n",
      " 'South Beach' 'East Flatbush' 'Brooklyn Navy Yard' 'Rego Park'\n",
      " 'Long Island City' 'Greenwich Village' 'East New York' 'Stapleton'\n",
      " 'Graniteville' 'Ozone Park' 'Columbia Street Waterfront' 'Longwood'\n",
      " 'Canarsie' 'Sunset Park' 'Greenwood Heights' 'Ditmars / Steinway'\n",
      " 'The Rockaways' 'Tottenville' 'Noho' 'Mariners Harbor' 'Woodside'\n",
      " 'Little Italy' 'Allerton' 'Bayside' 'Downtown Brooklyn' 'Flushing'\n",
      " 'Riverdale' 'Union Square' 'Murray Hill' 'Tribeca' 'Red Hook' 'Elm Park'\n",
      " 'South Street Seaport' 'Rosebank' 'Williamsbridge' 'Soundview'\n",
      " 'Woodhaven' 'Manhattan' 'Brighton Beach' 'Port Morris' 'Brooklyn'\n",
      " 'Lindenwood' 'Fordham' 'Sea Gate' 'Borough Park' 'Maspeth' 'St. George'\n",
      " 'Mott Haven' 'Brownsville' 'Vinegar Hill' 'Tremont' 'Concourse Village'\n",
      " 'Clifton' 'Tompkinsville' 'Bedford Park' 'Howard Beach'\n",
      " 'Kew Garden Hills' 'Van Nest' 'East Elmhurst' 'Bensonhurst'\n",
      " 'Fresh Meadows' 'Roosevelt Island' 'Civic Center' 'Great Kills'\n",
      " 'Hillcrest' 'Manhattan Beach' 'Crotona' 'Gravesend' 'Dongan Hills'\n",
      " 'Hunts Point' 'City Island' 'Port Richmond' 'Gerritsen Beach'\n",
      " 'Morris Heights' 'Melrose' 'Bronxdale' 'Castleton Corners' 'Parkchester'\n",
      " 'Wakefield' 'Grasmere' 'Norwood' 'Battery Park City' 'Mount Eden'\n",
      " 'Morrisania' 'Corona' 'Claremont' 'Castle Hill ' 'Country Club'\n",
      " 'Pelham Bay' 'Coney Island' 'South Ozone Park' 'Park Versailles'\n",
      " 'Fort Wadsworth' 'Midland Beach' 'Kingsbridge' 'College Point' 'Glendale'\n",
      " 'Utopia' 'Morris Park' 'Bath Beach' 'Whitestone' 'Grant City'\n",
      " 'Marble Hill' 'Throgs Neck' 'Concord' 'Westchester Village'\n",
      " 'Dyker Heights' \"Bull's Head\" 'Grymes Hill' 'Randall Manor' 'Edenwald'\n",
      " 'Bergen Beach' 'Meiers Corners' 'New Brighton' 'Belmont' 'Annadale'\n",
      " 'New Dorp Beach' 'Huguenot' 'The Bronx' 'New Dorp' 'Queens'\n",
      " 'Staten Island' 'Todt Hill' 'Spuyten Duyvil' 'Fort Hamilton' 'Oakwood'\n",
      " 'Arden Heights' 'Westerleigh' 'Rossville' 'Greenridge' 'Marine Park']\n",
      "['Kensington' 'Midtown' 'Williamsburg' 'Chinatown' 'Upper West Side'\n",
      " 'South Slope' 'West Village' 'Crown Heights' 'East Village'\n",
      " 'Windsor Terrace' 'Inwood' 'Harlem' 'Lower East Side'\n",
      " 'Prospect-Lefferts Gardens' 'Bedford-Stuyvesant' 'Jamaica' 'Fort Greene'\n",
      " 'Greenpoint' 'Kips Bay' 'Flatbush' 'SoHo' 'Chelsea' 'Prospect Heights'\n",
      " \"Hell's Kitchen\" 'East Harlem' 'Clinton Hill' 'Carroll Gardens'\n",
      " 'Park Slope' 'Gowanus' 'Upper East Side' 'Washington Heights' 'Flatlands'\n",
      " 'Boerum Hill' 'Sunnyside' 'Highbridge' 'Financial District' 'Ridgewood'\n",
      " 'Morningside Heights' 'Middle Village' 'Cobble Hill' 'Flatiron District'\n",
      " 'Bushwick' 'Tompkinsville' 'Eastchester' 'Little Italy' 'Kingsbridge'\n",
      " 'Brooklyn Heights' 'Two Bridges' 'Astoria' 'Forest Hills' 'Nolita'\n",
      " 'Woodlawn' 'University Heights' 'Gramercy' 'Allerton' 'Theater District'\n",
      " 'Concourse Village' 'Sheepshead Bay' 'Fort Hamilton' 'Long Island City'\n",
      " 'Tribeca' 'Concourse' 'Vinegar Hill' 'DUMBO' 'Richmond Hill' 'Midwood'\n",
      " 'Ditmars Steinway' 'Elmhurst' 'Jackson Heights' 'Arrochar'\n",
      " 'East Flatbush' 'Rego Park' 'Woodside' 'Greenwich Village'\n",
      " 'East New York' 'Clifton' 'Bay Ridge' 'Graniteville' 'Ozone Park'\n",
      " 'Columbia St' 'Longwood' 'Canarsie' 'Sunset Park' 'Civic Center'\n",
      " 'East Elmhurst' 'Arverne' 'Murray Hill' 'Tottenville' 'NoHo'\n",
      " 'Mariners Harbor' 'Bayside' 'Downtown Brooklyn' 'Flushing' 'Fieldston'\n",
      " 'Kew Gardens' 'Briarwood' 'Glendale' 'Queens Village' 'Red Hook'\n",
      " 'St. Albans' 'Cypress Hills' 'Port Richmond' 'Shore Acres'\n",
      " 'Williamsbridge' 'Soundview' 'Woodhaven' 'Co-op City' 'Brighton Beach'\n",
      " 'Port Morris' 'Howard Beach' 'Borough Park' 'Sea Gate' 'Riverdale'\n",
      " 'Maspeth' 'St. George' 'Mott Haven' 'Brownsville' 'Navy Yard'\n",
      " 'Mount Hope' 'Clason Point' 'Stapleton' 'Springfield Gardens' 'Norwood'\n",
      " 'Kew Gardens Hills' 'Van Nest' 'Bensonhurst' 'Fresh Meadows'\n",
      " 'Rockaway Beach' 'West Brighton' 'Roosevelt Island' 'Bayswater'\n",
      " 'Great Kills' 'Jamaica Estates' 'Manhattan Beach' 'East Morrisania'\n",
      " 'Gravesend' 'Dongan Hills' 'Stuyvesant Town' 'Hunts Point' 'City Island'\n",
      " 'Randall Manor' 'Laurelton' 'Morris Heights' 'Holliswood'\n",
      " 'Castleton Corners' 'Parkchester' 'Wakefield' 'Concord' 'Pelham Gardens'\n",
      " 'Battery Park City' 'Mount Eden' 'Corona' 'South Ozone Park'\n",
      " 'Claremont Village' 'Unionport' 'Bronxdale' 'Tremont' 'Throgs Neck'\n",
      " 'Fordham' 'Howland Hook' 'Spuyten Duyvil' 'Schuylerville' 'Coney Island'\n",
      " 'Rosedale' 'Far Rockaway' 'Midland Beach' 'Eltingville' 'College Point'\n",
      " 'South Beach' 'Morris Park' 'Pelham Bay' 'Bath Beach' 'Cambria Heights'\n",
      " 'Edgemere' 'Whitestone' 'Grant City' 'Marble Hill' 'Neponsit'\n",
      " 'Belle Harbor' 'Jamaica Hills' 'Westchester Square' 'Bellerose'\n",
      " 'Dyker Heights' \"Bull's Head\" 'Silver Lake' 'Olinville' 'Gerritsen Beach'\n",
      " 'Hollis' 'Edenwald' 'North Riverdale' 'Bergen Beach' 'Willowbrook'\n",
      " 'Mill Basin' 'New Brighton' 'Baychester' 'Belmont' 'Arden Heights'\n",
      " 'Melrose' 'Morrisania' 'Oakwood' \"Prince's Bay\" 'West Farms'\n",
      " 'Bay Terrace' 'Grymes Hill' 'Emerson Hill' 'New Dorp' 'Westerleigh'\n",
      " 'Rosebank' 'New Dorp Beach' 'Breezy Point' 'Bay Terrace, Staten Island'\n",
      " 'Todt Hill' 'New Springville' 'Castle Hill' 'Country Club' 'Rossville'\n",
      " 'Richmondtown']\n",
      "['Brooklyn' 'Manhattan' 'Queens' 'Bronx' 'Staten Island']\n"
     ]
    }
   ],
   "source": [
    "print(data['neighbourhood'].unique())\n",
    "print(data['neighbourhood_cleansed'].unique())\n",
    "print(data['neighbourhood_group_cleansed'].unique())\n",
    "\n",
    "df['neighbourhood'] = data['neighbourhood_cleansed']\n",
    "df['borough'] = data['neighbourhood_group_cleansed']"
   ]
  },
  {
   "cell_type": "markdown",
   "metadata": {},
   "source": [
    "#### Property"
   ]
  },
  {
   "cell_type": "code",
   "execution_count": 66,
   "metadata": {},
   "outputs": [
    {
     "name": "stdout",
     "output_type": "stream",
     "text": [
      "property_type:  ['Apartment' 'Townhouse' 'Condominium' 'House' 'Loft' 'Bed and breakfast'\n",
      " 'Guest suite' 'Guesthouse' 'Resort' 'Serviced apartment' 'Boat' 'Other'\n",
      " 'Earth house' 'Hostel' 'Cottage' 'Villa' 'Bungalow' 'Cabin' 'Hotel'\n",
      " 'Boutique hotel' 'Tiny house' 'Aparthotel' 'Houseboat' 'Castle'\n",
      " 'Casa particular (Cuba)' 'Camper/RV' 'Tent' 'Pension (South Korea)'\n",
      " 'Treehouse' 'Farm stay' 'Island' 'Barn' 'Cave' 'Lighthouse']\n",
      "room_type:  ['Private room' 'Entire home/apt' 'Shared room' 'Hotel room']\n",
      "bathrooms:  [ 1.   1.5  2.   2.5  3.   0.   5.   0.5  5.5  4.   3.5 15.5  4.5  6.\n",
      "  6.5  7.5  7.   8. ]\n",
      "bedrooms:  [ 1.  0.  3.  2.  4.  5.  6.  7. 14.  8. 10.  9. 21.]\n",
      "beds:  [ 1.  2.  0.  3.  4.  6.  5. 10. 14. 16. 12.  8.  7. 11. 40.  9. 13. 15.\n",
      " 17. 21. 18.]\n",
      "bed_type:  ['Real Bed' 'Futon' 'Pull-out Sofa' 'Airbed' 'Couch']\n"
     ]
    }
   ],
   "source": [
    "print(\"property_type: \",data['property_type'].unique())\n",
    "print(\"room_type: \",data['room_type'].unique())\n",
    "print(\"bathrooms: \",data['bathrooms'].unique())\n",
    "print(\"bedrooms: \", data['bedrooms'].unique())\n",
    "print(\"beds: \", data['beds'].unique())\n",
    "print(\"bed_type: \", data['bed_type'].unique())\n",
    "\n",
    "df['property_type'] = data['property_type']\n",
    "df['room_type'] = data['room_type']\n",
    "df['bathrooms'] = data['bathrooms']\n",
    "df['bedrooms'] = data['bedrooms']\n",
    "df['beds'] = data['beds']\n",
    "df['bed_type'] = data['bed_type']"
   ]
  },
  {
   "cell_type": "markdown",
   "metadata": {},
   "source": [
    "#### Amentities provided in the bnb"
   ]
  },
  {
   "cell_type": "code",
   "execution_count": 67,
   "metadata": {},
   "outputs": [
    {
     "name": "stdout",
     "output_type": "stream",
     "text": [
      "['{TV,\"Cable TV\",Internet,Wifi,\"Wheelchair accessible\",Kitchen,\"Free parking on premises\",Elevator,\"Free street parking\",\"Buzzer/wireless intercom\",Heating,\"Suitable for events\",Washer,Dryer,\"Smoke detector\",\"Carbon monoxide detector\",\"First aid kit\",\"Safety card\",\"Fire extinguisher\",Essentials,Shampoo,\"24-hour check-in\",Hangers,\"Hair dryer\",Iron,\"Laptop friendly workspace\",\"translation missing: en.hosting_amenity_49\",\"translation missing: en.hosting_amenity_50\",\"Self check-in\",Keypad,\"Outlet covers\",\"Hot water\",\"Bed linens\",\"Extra pillows and blankets\",Microwave,\"Coffee maker\",Refrigerator,\"Dishes and silverware\",\"Cooking basics\",Oven,Stove,\"Luggage dropoff allowed\",\"Long term stays allowed\",\"Cleaning before checkout\"}'\n",
      " '{TV,Wifi,\"Air conditioning\",Kitchen,\"Paid parking off premises\",\"Free street parking\",\"Indoor fireplace\",Heating,\"Family/kid friendly\",\"Smoke detector\",\"Carbon monoxide detector\",\"Fire extinguisher\",Essentials,Shampoo,\"Lock on bedroom door\",Hangers,\"Hair dryer\",Iron,\"Laptop friendly workspace\",\"Self check-in\",Keypad,\"Private living room\",Bathtub,\"Hot water\",\"Bed linens\",\"Extra pillows and blankets\",\"Ethernet connection\",\"Coffee maker\",Refrigerator,\"Dishes and silverware\",\"Cooking basics\",Oven,Stove,\"Luggage dropoff allowed\",\"Long term stays allowed\",\"Cleaning before checkout\"}'\n",
      " '{TV,Internet,Wifi,\"Wheelchair accessible\",Kitchen,\"Pets live on this property\",Elevator,\"Free street parking\",\"Buzzer/wireless intercom\",Heating,Washer,Dryer,\"Smoke detector\",\"Carbon monoxide detector\",Essentials,Shampoo,\"Lock on bedroom door\",Hangers,\"Hair dryer\",\"Laptop friendly workspace\",\"translation missing: en.hosting_amenity_49\",\"translation missing: en.hosting_amenity_50\",\"Hot water\",\"Long term stays allowed\",Other}'\n",
      " ...\n",
      " '{Wifi,Kitchen,\"Free parking on premises\",Heating,\"Smoke detector\",Essentials,Shampoo,\"Lock on bedroom door\",Hangers,\"Hair dryer\",Iron,\"Laptop friendly workspace\",\"Private living room\"}'\n",
      " '{TV,Wifi,Kitchen,\"Pets allowed\",\"Free street parking\",\"Hot tub\",Heating,\"Smoke detector\",\"First aid kit\",\"Fire extinguisher\",Essentials,\"Lock on bedroom door\",Hangers,Iron,\"Hot water\",Microwave,\"Coffee maker\",Refrigerator,\"Dishes and silverware\",\"Cooking basics\",Oven,Stove,\"Trash can\"}'\n",
      " '{TV,\"Cable TV\",Wifi,Kitchen,\"Free street parking\",Heating,\"Smoke detector\",\"Carbon monoxide detector\",Essentials,Shampoo,Hangers,\"Private entrance\",\"Hot water\",\"Bed linens\",\"Extra pillows and blankets\",Microwave,\"Coffee maker\",Refrigerator,\"Dishes and silverware\",\"Cooking basics\",Oven,Stove,\"Wide entrance for guests\"}']\n"
     ]
    }
   ],
   "source": [
    "print(data['amenities'].unique())"
   ]
  },
  {
   "cell_type": "code",
   "execution_count": 85,
   "metadata": {},
   "outputs": [
    {
     "name": "stdout",
     "output_type": "stream",
     "text": [
      "244905\n"
     ]
    }
   ],
   "source": [
    "print(len(data.index))\n",
    "data['amenities_n'] = data['amenities'].apply(lambda x : str(x).replace('{','').replace('}','')\n",
    "                        .replace('\"','').lower().replace('nan','').split(','))"
   ]
  },
  {
   "cell_type": "code",
   "execution_count": 86,
   "metadata": {},
   "outputs": [
    {
     "data": {
      "text/plain": [
       "1         None\n",
       "2         None\n",
       "3         None\n",
       "12        None\n",
       "13        None\n",
       "          ... \n",
       "694341    None\n",
       "694357    None\n",
       "694515    None\n",
       "694519    None\n",
       "694536    None\n",
       "Name: amenities_n, Length: 244905, dtype: object"
      ]
     },
     "execution_count": 86,
     "metadata": {},
     "output_type": "execute_result"
    }
   ],
   "source": [
    "amenities = []\n",
    "\n",
    "def get_list_data(x):\n",
    "    if x is not None:\n",
    "        for i in x:\n",
    "            amenities.append(i)\n",
    "\n",
    "def convert_to_none(x):\n",
    "    a = str(x)\n",
    "    if a == 'nan':\n",
    "        return None\n",
    "    else:\n",
    "        return x\n",
    "        \n",
    "data['amenities_n'] = data['amenities_n'].apply(lambda x: convert_to_none(x))\n",
    "data['amenities_n'].apply(lambda x: get_list_data(x))"
   ]
  },
  {
   "cell_type": "code",
   "execution_count": 87,
   "metadata": {},
   "outputs": [
    {
     "data": {
      "text/plain": [
       "1         [tv, cable tv, internet, wifi, wheelchair acce...\n",
       "2         [tv, wifi, air conditioning, kitchen, paid par...\n",
       "3         [tv, internet, wifi, wheelchair accessible, ki...\n",
       "12        [tv, cable tv, wifi, air conditioning, kitchen...\n",
       "13        [internet, wifi, air conditioning, kitchen, do...\n",
       "                                ...                        \n",
       "694341    [tv, cable tv, wifi, air conditioning, kitchen...\n",
       "694357    [tv, cable tv, wifi, air conditioning, kitchen...\n",
       "694515    [wifi, kitchen, free parking on premises, heat...\n",
       "694519    [tv, wifi, kitchen, pets allowed, free street ...\n",
       "694536    [tv, cable tv, wifi, kitchen, free street park...\n",
       "Name: amenities_n, Length: 244905, dtype: object"
      ]
     },
     "execution_count": 87,
     "metadata": {},
     "output_type": "execute_result"
    }
   ],
   "source": [
    "data['amenities_n']"
   ]
  },
  {
   "cell_type": "code",
   "execution_count": 88,
   "metadata": {},
   "outputs": [
    {
     "name": "stdout",
     "output_type": "stream",
     "text": [
      "{'wifi': 242492, 'heating': 237638, 'essentials': 236237, 'smoke detector': 223918, 'kitchen': 223320, 'air conditioning': 219440}\n"
     ]
    }
   ],
   "source": [
    "#print(dict((x,amenities.count(x)) for x in set(amenities)))\n",
    "print(dict(Counter(amenities).most_common(6)))"
   ]
  },
  {
   "cell_type": "code",
   "execution_count": 89,
   "metadata": {},
   "outputs": [
    {
     "name": "stdout",
     "output_type": "stream",
     "text": [
      "1     44\n",
      "2     36\n",
      "3     25\n",
      "12    27\n",
      "13    21\n",
      "Name: amenities_count, dtype: int64\n"
     ]
    }
   ],
   "source": [
    "def if_amenities(x, a):\n",
    "    if x is not None:\n",
    "        if a in x:\n",
    "            return True\n",
    "        else:\n",
    "            return False\n",
    "    else:\n",
    "        return None\n",
    "\n",
    "def get_count(x):\n",
    "    if x is not None:\n",
    "        return len(x)\n",
    "    else:\n",
    "        return None\n",
    "    \n",
    "df['amenities_count'] = data['amenities_n'].apply(lambda x: get_count(x))\n",
    "print(df['amenities_count'].head())\n",
    "df['is_wifi'] = data['amenities_n'].apply(lambda x : if_amenities(x,'wifi'))\n",
    "df['is_kitchen'] = data['amenities_n'].apply(lambda x : if_amenities(x,'kitchen'))\n",
    "df['is_heating'] = data['amenities_n'].apply(lambda x : if_amenities(x,'heating'))\n",
    "df['is_smoke_detector'] = data['amenities_n'].apply(lambda x : if_amenities(x,'smoke detector'))\n",
    "df['is_aircon'] = data['amenities_n'].apply(lambda x : if_amenities(x,'air conditioning'))"
   ]
  },
  {
   "cell_type": "markdown",
   "metadata": {},
   "source": [
    "### Price"
   ]
  },
  {
   "cell_type": "code",
   "execution_count": 90,
   "metadata": {
    "scrolled": true
   },
   "outputs": [
    {
     "name": "stdout",
     "output_type": "stream",
     "text": [
      "['$149.00' '$225.00' '$70.00' '$150.00' '$135.00' '$89.00' '$175.00'\n",
      " '$99.00' '$272.00' '$60.00' '$44.00' '$50.00' '$52.00' '$40.00' '$68.00'\n",
      " '$120.00' '$110.00' '$115.00' '$80.00' '$224.00' '$144.00' '$200.00'\n",
      " '$140.00' '$145.00' '$100.00' '$180.00' '$375.00' '$79.00' '$105.00'\n",
      " '$95.00' '$285.00' '$92.00' '$131.00' '$250.00' '$125.00' '$500.00'\n",
      " '$220.00' '$199.00' '$295.00' '$235.00' '$85.00' '$98.00' '$185.00'\n",
      " '$130.00' '$77.00' '$275.00' '$195.00' '$169.00' '$69.00' '$162.00'\n",
      " '$219.00' '$475.00' '$35.00' '$196.00' '$165.00' '$65.00' '$350.00'\n",
      " '$75.00' '$249.00' '$83.00' '$55.00' '$58.00' '$265.00' '$45.00'\n",
      " '$139.00' '$259.00' '$305.00' '$155.00' '$30.00' '$32.00' '$31.00'\n",
      " '$59.00' '$49.00' '$212.00' '$190.00' '$122.00' '$575.00' '$90.00'\n",
      " '$71.00' '$300.00' '$123.00' '$67.00' '$279.00' '$395.00' '$189.00'\n",
      " '$97.00' '$495.00' '$451.00' '$129.00' '$38.00' '$72.00' '$170.00'\n",
      " '$37.00' '$91.00' '$400.00' '$53.00' '$107.00' '$78.00' '$109.00'\n",
      " '$160.00' '$43.00' '$42.00' '$27.00' '$146.00' '$191.00' '$179.00'\n",
      " '$311.00' '$148.00' '$102.00' '$56.00' '$223.00' '$226.00' '$700.00'\n",
      " '$114.00' '$650.00' '$64.00' '$325.00' '$73.00' '$310.00' '$167.00'\n",
      " '$339.00' '$1,300.00' '$800.00' '$450.00' '$157.00' '$245.00' '$159.00'\n",
      " '$103.00' '$87.00' '$20.00' '$104.00' '$269.00' '$229.00' '$550.00'\n",
      " '$138.00' '$39.00' '$142.00' '$230.00' '$174.00' '$232.00' '$210.00'\n",
      " '$82.00' '$119.00' '$215.00' '$385.00' '$499.00' '$209.00' '$349.00'\n",
      " '$93.00' '$198.00' '$151.00' '$154.00' '$133.00' '$54.00' '$136.00'\n",
      " '$299.00' '$63.00' '$410.00' '$61.00' '$222.00' '$274.00' '$595.00'\n",
      " '$127.00' '$113.00' '$108.00' '$62.00' '$330.00' '$240.00' '$168.00'\n",
      " '$171.00' '$74.00' '$94.00' '$280.00' '$178.00' '$278.00' '$96.00'\n",
      " '$128.00' '$465.00' '$51.00' '$260.00' '$560.00' '$289.00' '$370.00'\n",
      " '$176.00' '$2,500.00' '$399.00' '$134.00' '$750.00' '$187.00' '$172.00'\n",
      " '$950.00' '$46.00' '$116.00' '$1,395.00' '$66.00' '$158.00' '$47.00'\n",
      " '$41.00' '$84.00' '$147.00' '$735.00' '$525.00' '$111.00' '$112.00'\n",
      " '$345.00' '$121.00' '$188.00' '$243.00' '$48.00' '$197.00' '$194.00'\n",
      " '$290.00' '$439.00' '$555.00' '$449.00' '$34.00' '$390.00' '$143.00'\n",
      " '$799.00' '$455.00' '$193.00' '$420.00' '$600.00' '$153.00' '$33.00'\n",
      " '$117.00' '$320.00' '$164.00' '$124.00' '$1,485.00' '$1,650.00' '$86.00'\n",
      " '$137.00' '$88.00' '$28.00' '$152.00' '$425.00' '$118.00' '$430.00'\n",
      " '$255.00' '$126.00' '$490.00' '$1,000.00' '$419.00' '$360.00' '$16.00'\n",
      " '$785.00' '$316.00' '$205.00' '$264.00' '$81.00' '$216.00' '$545.00'\n",
      " '$181.00' '$246.00' '$202.00' '$529.00' '$850.00' '$471.00' '$76.00'\n",
      " '$36.00' '$192.00' '$309.00' '$900.00' '$1,050.00' '$985.00' '$270.00'\n",
      " '$57.00' '$699.00' '$21.00' '$163.00' '$3,000.00' '$340.00' '$1,100.00'\n",
      " '$258.00' '$380.00' '$346.00' '$549.00' '$510.00' '$10.00' '$308.00'\n",
      " '$675.00' '$524.00' '$141.00' '$2,000.00' '$244.00' '$207.00' '$132.00'\n",
      " '$218.00' '$1,200.00' '$341.00' '$369.00' '$336.00' '$276.00' '$238.00'\n",
      " '$201.00' '$228.00' '$284.00' '$888.00' '$365.00' '$24.00' '$398.00'\n",
      " '$355.00' '$29.00' '$328.00' '$635.00' '$453.00' '$485.00' '$182.00'\n",
      " '$22.00' '$530.00' '$173.00' '$101.00' '$221.00' '$267.00' '$25.00'\n",
      " '$999.00' '$637.00' '$469.00' '$239.00' '$374.00' '$418.00' '$389.00'\n",
      " '$252.00' '$480.00' '$899.00' '$296.00' '$629.00' '$366.00' '$166.00'\n",
      " '$177.00' '$597.00' '$186.00' '$293.00' '$329.00' '$1,731.00' '$184.00'\n",
      " '$214.00' '$1,800.00' '$760.00' '$619.00' '$106.00' '$509.00' '$429.00'\n",
      " '$333.00' '$203.00' '$359.00' '$319.00' '$294.00' '$548.00' '$2,800.00'\n",
      " '$206.00' '$397.00' '$492.00' '$273.00' '$588.00' '$211.00' '$405.00'\n",
      " '$314.00' '$415.00' '$351.00' '$644.00' '$26.00' '$904.00' '$3,270.00'\n",
      " '$408.00' '$432.00' '$298.00' '$271.00' '$331.00' '$19.00' '$599.00'\n",
      " '$253.00' '$585.00' '$11.00' '$297.00' '$520.00' '$315.00' '$23.00'\n",
      " '$695.00' '$484.00' '$287.00' '$685.00' '$379.00' '$615.00' '$234.00'\n",
      " '$0.00' '$183.00' '$335.00' '$236.00' '$352.00' '$497.00' '$268.00'\n",
      " '$248.00' '$392.00' '$443.00' '$789.00' '$1,460.00' '$995.00' '$332.00'\n",
      " '$217.00' '$2,450.00' '$387.00' '$496.00' '$1,177.00' '$241.00' '$208.00'\n",
      " '$231.00' '$237.00' '$2,200.00' '$809.00' '$15.00' '$12.00' '$292.00'\n",
      " '$424.00' '$277.00' '$17.00' '$625.00' '$640.00' '$156.00' '$8,500.00'\n",
      " '$445.00' '$344.00' '$2,990.00' '$620.00' '$282.00' '$412.00' '$975.00'\n",
      " '$161.00' '$1,195.00' '$466.00' '$1,500.00' '$391.00' '$440.00' '$393.00'\n",
      " '$413.00' '$263.00' '$18.00' '$384.00' '$1,250.00' '$204.00' '$579.00'\n",
      " '$381.00' '$689.00' '$338.00' '$394.00' '$460.00' '$590.00' '$580.00'\n",
      " '$254.00' '$251.00' '$1,095.00' '$403.00' '$288.00' '$538.00' '$1,299.00'\n",
      " '$368.00' '$286.00' '$498.00' '$261.00' '$1,350.00' '$649.00' '$505.00'\n",
      " '$688.00' '$357.00' '$540.00' '$2,400.00' '$795.00' '$322.00' '$761.00'\n",
      " '$262.00' '$1,400.00' '$658.00' '$436.00' '$242.00' '$489.00' '$1,099.00'\n",
      " '$745.00' '$702.00' '$233.00' '$372.00' '$266.00' '$477.00' '$780.00'\n",
      " '$313.00' '$434.00' '$673.00' '$810.00' '$709.00' '$435.00' '$690.00'\n",
      " '$574.00' '$511.00' '$321.00' '$5,000.00' '$353.00' '$988.00' '$697.00'\n",
      " '$428.00' '$519.00' '$438.00' '$725.00' '$312.00' '$1,030.00' '$990.00'\n",
      " '$1,750.00' '$283.00' '$814.00' '$923.00' '$301.00' '$407.00' '$855.00'\n",
      " '$1,600.00' '$1,795.00' '$1,005.00' '$910.00' '$820.00' '$514.00'\n",
      " '$358.00' '$416.00' '$409.00' '$247.00' '$895.00' '$1,239.00' '$468.00'\n",
      " '$227.00' '$670.00' '$890.00' '$1,480.00' '$378.00' '$1,570.00' '$486.00'\n",
      " '$660.00' '$388.00' '$531.00' '$949.00' '$840.00' '$348.00' '$1,495.00'\n",
      " '$1,370.00' '$14.00' '$624.00' '$532.00' '$517.00' '$544.00' '$589.00'\n",
      " '$213.00' '$1,710.00' '$753.00' '$411.00' '$515.00' '$459.00' '$356.00'\n",
      " '$371.00' '$516.00' '$324.00' '$256.00' '$376.00' '$304.00' '$318.00'\n",
      " '$775.00' '$939.00' '$749.00' '$3,900.00' '$612.00' '$715.00' '$257.00'\n",
      " '$476.00' '$303.00' '$989.00' '$790.00' '$652.00' '$3,800.00' '$334.00'\n",
      " '$6,000.00' '$536.00' '$364.00' '$501.00' '$573.00' '$396.00' '$417.00'\n",
      " '$2,300.00' '$383.00' '$414.00' '$672.00' '$462.00' '$2,522.00' '$825.00'\n",
      " '$1,067.00' '$1,599.00' '$541.00' '$488.00' '$659.00' '$605.00'\n",
      " '$1,115.00' '$692.00' '$805.00' '$317.00' '$1,295.00' '$362.00' '$472.00'\n",
      " '$523.00' '$487.00' '$421.00' '$2,600.00' '$431.00' '$444.00' '$306.00'\n",
      " '$463.00' '$616.00' '$427.00' '$945.00' '$535.00' '$539.00' '$577.00'\n",
      " '$479.00' '$447.00' '$433.00' '$584.00' '$2,590.00' '$578.00' '$766.00'\n",
      " '$639.00' '$404.00' '$503.00' '$454.00' '$377.00' '$3,613.00' '$5,100.00'\n",
      " '$898.00' '$470.00' '$474.00' '$7,500.00' '$2,995.00' '$342.00' '$347.00'\n",
      " '$323.00' '$1,190.00' '$669.00' '$537.00' '$636.00' '$617.00' '$561.00'\n",
      " '$570.00' '$461.00' '$502.00' '$402.00' '$563.00' '$543.00' '$422.00'\n",
      " '$494.00' '$1,369.00' '$1,749.00' '$1,479.00' '$1,709.00' '$291.00'\n",
      " '$382.00' '$1,995.00' '$458.00' '$456.00' '$442.00' '$554.00' '$521.00'\n",
      " '$576.00' '$565.00' '$441.00' '$478.00' '$1,900.00' '$830.00' '$1,569.00'\n",
      " '$361.00' '$3,590.00' '$566.00' '$1,354.00' '$1,386.00' '$3,999.00'\n",
      " '$1,199.00' '$598.00' '$302.00' '$569.00' '$281.00' '$482.00' '$542.00'\n",
      " '$457.00' '$423.00' '$483.00' '$406.00' '$1,999.00' '$343.00' '$661.00'\n",
      " '$1,120.00' '$513.00' '$730.00' '$1,245.00' '$765.00' '$970.00' '$327.00'\n",
      " '$4,000.00' '$1,290.00' '$1,399.00' '$2,999.00' '$551.00' '$1,063.00'\n",
      " '$373.00' '$1,150.00' '$448.00' '$307.00' '$10,000.00' '$367.00'\n",
      " '$1,275.00' '$1,037.00' '$665.00' '$559.00' '$606.00' '$3,500.00'\n",
      " '$793.00' '$1,297.00' '$680.00']\n"
     ]
    }
   ],
   "source": [
    "print(data['price'].unique())"
   ]
  },
  {
   "cell_type": "code",
   "execution_count": 91,
   "metadata": {},
   "outputs": [],
   "source": [
    "df['price'] = data['price'].apply(lambda x: float(str(x).replace(',','').strip('$')))\n",
    "df['security_deposit'] = data['security_deposit'].apply(lambda x: float(str(x).replace(',','').strip('$')))\n",
    "df['cleaning_fee'] = data['cleaning_fee'].apply(lambda x: float(str(x).replace(',','').strip('$')))\n",
    "df['price_for_extra_people'] = data['extra_people'].apply(lambda x: float(str(x).replace(',','').strip('$')))"
   ]
  },
  {
   "cell_type": "markdown",
   "metadata": {},
   "source": [
    "### Stay"
   ]
  },
  {
   "cell_type": "code",
   "execution_count": 92,
   "metadata": {},
   "outputs": [],
   "source": [
    "df['guests_included'] = data['guests_included']\n",
    "df['minimum_nights'] = data['minimum_nights']\n",
    "df['maximum_nights'] = data['maximum_nights']\n",
    "df['has_availability'] = data['has_availability'].apply(lambda x: get_bool(x))\n",
    "df['availability_30'] = data['availability_30']\n",
    "df['availability_60'] = data['availability_60']\n",
    "df['availability_90'] = data['availability_90']\n",
    "df['availability_365'] = data['availability_365']\n",
    "df['is_instant_bookable'] = data['instant_bookable'].apply(lambda x: get_bool(x))\n",
    "df['is_business_travel_ready'] = data['is_business_travel_ready'].apply(lambda x: get_bool(x))"
   ]
  },
  {
   "cell_type": "code",
   "execution_count": 93,
   "metadata": {},
   "outputs": [
    {
     "name": "stdout",
     "output_type": "stream",
     "text": [
      "['moderate' 'strict_14_with_grace_period' 'flexible' 'strict'\n",
      " 'super_strict_30' 'super_strict_60']\n"
     ]
    }
   ],
   "source": [
    "print(data['cancellation_policy'].unique())\n",
    "df['cancellation_policy'] = data['cancellation_policy']"
   ]
  },
  {
   "cell_type": "markdown",
   "metadata": {},
   "source": [
    "#### steps to be taken for the guests"
   ]
  },
  {
   "cell_type": "code",
   "execution_count": 94,
   "metadata": {},
   "outputs": [],
   "source": [
    "df['require_guest_profile_picture'] = data['require_guest_profile_picture'].apply(lambda x: get_bool(x))\n",
    "df['require_guest_phone_verification'] = data['require_guest_phone_verification'].apply(lambda x: get_bool(x))"
   ]
  },
  {
   "cell_type": "markdown",
   "metadata": {},
   "source": [
    "### Reviews of the listing"
   ]
  },
  {
   "cell_type": "code",
   "execution_count": 95,
   "metadata": {},
   "outputs": [],
   "source": [
    "df['number_of_reviews'] = data['number_of_reviews']\n",
    "df['reviews_per_month'] = data['reviews_per_month']\n",
    "df['number_of_reviews_ltm'] = data['number_of_reviews_ltm']\n",
    "df['review_scores_rating'] = data['review_scores_rating']\n",
    "df['review_scores_accuracy'] = data['review_scores_accuracy']\n",
    "df['review_scores_cleanliness'] = data['review_scores_cleanliness']\n",
    "df['review_scores_checkin'] = data['review_scores_checkin']\n",
    "df['review_scores_communication'] = data['review_scores_communication']\n",
    "df['review_scores_location'] = data['review_scores_location']\n",
    "df['review_scores_value'] = data['review_scores_value']"
   ]
  },
  {
   "cell_type": "code",
   "execution_count": 96,
   "metadata": {},
   "outputs": [],
   "source": [
    "columns = df.columns"
   ]
  },
  {
   "cell_type": "code",
   "execution_count": 97,
   "metadata": {},
   "outputs": [
    {
     "data": {
      "text/plain": [
       "Index(['listing_id', 'host_id', 'last_scraped', 'experience',\n",
       "       'host_response_time', 'host_response_rate', 'host_is_superhost',\n",
       "       'host_total_listings_count', 'host_identity_verified',\n",
       "       'calculated_host_listings_count',\n",
       "       'calculated_host_listings_count_entire_homes',\n",
       "       'calculated_host_listings_count_private_rooms',\n",
       "       'calculated_host_listings_count_shared_rooms', 'neighbourhood',\n",
       "       'borough', 'property_type', 'room_type', 'bathrooms', 'bedrooms',\n",
       "       'beds', 'bed_type', 'amenities_count', 'is_wifi', 'is_kitchen',\n",
       "       'is_heating', 'is_smoke_detector', 'is_aircon', 'price',\n",
       "       'security_deposit', 'cleaning_fee', 'price_for_extra_people',\n",
       "       'guests_included', 'minimum_nights', 'maximum_nights',\n",
       "       'has_availability', 'availability_30', 'availability_60',\n",
       "       'availability_90', 'availability_365', 'is_instant_bookable',\n",
       "       'is_business_travel_ready', 'cancellation_policy',\n",
       "       'require_guest_profile_picture', 'require_guest_phone_verification',\n",
       "       'number_of_reviews', 'reviews_per_month', 'number_of_reviews_ltm',\n",
       "       'review_scores_rating', 'review_scores_accuracy',\n",
       "       'review_scores_cleanliness', 'review_scores_checkin',\n",
       "       'review_scores_communication', 'review_scores_location',\n",
       "       'review_scores_value'],\n",
       "      dtype='object')"
      ]
     },
     "execution_count": 97,
     "metadata": {},
     "output_type": "execute_result"
    }
   ],
   "source": [
    "columns"
   ]
  },
  {
   "cell_type": "code",
   "execution_count": 98,
   "metadata": {},
   "outputs": [
    {
     "data": {
      "text/plain": [
       "54"
      ]
     },
     "execution_count": 98,
     "metadata": {},
     "output_type": "execute_result"
    }
   ],
   "source": [
    "len(columns)"
   ]
  },
  {
   "cell_type": "code",
   "execution_count": 99,
   "metadata": {},
   "outputs": [],
   "source": [
    "df.to_csv(\"Jan2019-Feb2020_cleaned_data.csv\", index=None)"
   ]
  },
  {
   "cell_type": "code",
   "execution_count": 100,
   "metadata": {},
   "outputs": [
    {
     "data": {
      "text/plain": [
       "35021"
      ]
     },
     "execution_count": 100,
     "metadata": {},
     "output_type": "execute_result"
    }
   ],
   "source": [
    "len(df.drop_duplicates('listing_id'))"
   ]
  },
  {
   "cell_type": "code",
   "execution_count": 101,
   "metadata": {},
   "outputs": [
    {
     "data": {
      "text/plain": [
       "1            Private room\n",
       "2         Entire home/apt\n",
       "3            Private room\n",
       "12        Entire home/apt\n",
       "13        Entire home/apt\n",
       "               ...       \n",
       "694341    Entire home/apt\n",
       "694357    Entire home/apt\n",
       "694515       Private room\n",
       "694519       Private room\n",
       "694536    Entire home/apt\n",
       "Name: room_type, Length: 244905, dtype: object"
      ]
     },
     "execution_count": 101,
     "metadata": {},
     "output_type": "execute_result"
    }
   ],
   "source": [
    "df['room_type']"
   ]
  },
  {
   "cell_type": "code",
   "execution_count": 38,
   "metadata": {},
   "outputs": [
    {
     "data": {
      "text/plain": [
       "1        2019-01-09\n",
       "35201    2019-01-09\n",
       "35203    2019-01-09\n",
       "35204    2019-01-09\n",
       "35205    2019-01-09\n",
       "            ...    \n",
       "668243   2020-02-13\n",
       "668248   2020-02-13\n",
       "668255   2020-02-13\n",
       "667872   2020-02-13\n",
       "694536   2020-02-13\n",
       "Name: last_scraped_datetime, Length: 244905, dtype: datetime64[ns]"
      ]
     },
     "execution_count": 38,
     "metadata": {},
     "output_type": "execute_result"
    }
   ],
   "source": [
    "data['last_scraped_datetime'].sort_values()"
   ]
  },
  {
   "cell_type": "code",
   "execution_count": 39,
   "metadata": {},
   "outputs": [
    {
     "data": {
      "text/plain": [
       "Index(['listing_id', 'host_id', 'last_scraped', 'experience',\n",
       "       'host_response_time', 'host_response_rate', 'host_is_superhost',\n",
       "       'host_total_listings_count', 'host_identity_verified',\n",
       "       'calculated_host_listings_count',\n",
       "       'calculated_host_listings_count_entire_homes',\n",
       "       'calculated_host_listings_count_private_rooms',\n",
       "       'calculated_host_listings_count_shared_rooms', 'neighbourhood',\n",
       "       'borough', 'property_type', 'room_type', 'bathrooms', 'bedrooms',\n",
       "       'beds', 'bed_type', 'amenities_count', 'is_wifi', 'is_kitchen',\n",
       "       'is_heating', 'is_smoke_detector', 'is_carbon_mo_detector', 'price',\n",
       "       'security_deposit', 'cleaning_fee', 'price_for_extra_people',\n",
       "       'guests_included', 'minimum_nights', 'maximum_nights',\n",
       "       'has_availability', 'availability_30', 'availability_60',\n",
       "       'availability_90', 'availability_365', 'is_instant_bookable',\n",
       "       'is_business_travel_ready', 'cancellation_policy',\n",
       "       'require_guest_profile_picture', 'require_guest_phone_verification',\n",
       "       'number_of_reviews', 'reviews_per_month', 'number_of_reviews_ltm',\n",
       "       'review_scores_rating', 'review_scores_accuracy',\n",
       "       'review_scores_cleanliness', 'review_scores_checkin',\n",
       "       'review_scores_communication', 'review_scores_location',\n",
       "       'review_scores_value'],\n",
       "      dtype='object')"
      ]
     },
     "execution_count": 39,
     "metadata": {},
     "output_type": "execute_result"
    }
   ],
   "source": [
    "df.columns\n"
   ]
  },
  {
   "cell_type": "code",
   "execution_count": 102,
   "metadata": {},
   "outputs": [
    {
     "data": {
      "text/plain": [
       "244905"
      ]
     },
     "execution_count": 102,
     "metadata": {},
     "output_type": "execute_result"
    }
   ],
   "source": [
    "len(df.index)"
   ]
  },
  {
   "cell_type": "code",
   "execution_count": 103,
   "metadata": {},
   "outputs": [
    {
     "data": {
      "text/html": [
       "<div>\n",
       "<style scoped>\n",
       "    .dataframe tbody tr th:only-of-type {\n",
       "        vertical-align: middle;\n",
       "    }\n",
       "\n",
       "    .dataframe tbody tr th {\n",
       "        vertical-align: top;\n",
       "    }\n",
       "\n",
       "    .dataframe thead th {\n",
       "        text-align: right;\n",
       "    }\n",
       "</style>\n",
       "<table border=\"1\" class=\"dataframe\">\n",
       "  <thead>\n",
       "    <tr style=\"text-align: right;\">\n",
       "      <th></th>\n",
       "      <th>listing_id</th>\n",
       "      <th>host_id</th>\n",
       "      <th>last_scraped</th>\n",
       "      <th>experience</th>\n",
       "      <th>host_response_time</th>\n",
       "      <th>host_response_rate</th>\n",
       "      <th>host_is_superhost</th>\n",
       "      <th>host_total_listings_count</th>\n",
       "      <th>host_identity_verified</th>\n",
       "      <th>calculated_host_listings_count</th>\n",
       "      <th>...</th>\n",
       "      <th>number_of_reviews</th>\n",
       "      <th>reviews_per_month</th>\n",
       "      <th>number_of_reviews_ltm</th>\n",
       "      <th>review_scores_rating</th>\n",
       "      <th>review_scores_accuracy</th>\n",
       "      <th>review_scores_cleanliness</th>\n",
       "      <th>review_scores_checkin</th>\n",
       "      <th>review_scores_communication</th>\n",
       "      <th>review_scores_location</th>\n",
       "      <th>review_scores_value</th>\n",
       "    </tr>\n",
       "  </thead>\n",
       "  <tbody>\n",
       "    <tr>\n",
       "      <td>1</td>\n",
       "      <td>2539</td>\n",
       "      <td>2787</td>\n",
       "      <td>2019-01-09</td>\n",
       "      <td>3776</td>\n",
       "      <td>within an hour</td>\n",
       "      <td>100</td>\n",
       "      <td>True</td>\n",
       "      <td>8.0</td>\n",
       "      <td>True</td>\n",
       "      <td>8</td>\n",
       "      <td>...</td>\n",
       "      <td>9</td>\n",
       "      <td>0.24</td>\n",
       "      <td>2</td>\n",
       "      <td>98.0</td>\n",
       "      <td>10.0</td>\n",
       "      <td>10.0</td>\n",
       "      <td>10.0</td>\n",
       "      <td>10.0</td>\n",
       "      <td>10.0</td>\n",
       "      <td>10.0</td>\n",
       "    </tr>\n",
       "    <tr>\n",
       "      <td>2</td>\n",
       "      <td>2595</td>\n",
       "      <td>2845</td>\n",
       "      <td>2019-01-09</td>\n",
       "      <td>3774</td>\n",
       "      <td>within a day</td>\n",
       "      <td>60</td>\n",
       "      <td>False</td>\n",
       "      <td>5.0</td>\n",
       "      <td>True</td>\n",
       "      <td>2</td>\n",
       "      <td>...</td>\n",
       "      <td>43</td>\n",
       "      <td>0.39</td>\n",
       "      <td>14</td>\n",
       "      <td>95.0</td>\n",
       "      <td>9.0</td>\n",
       "      <td>9.0</td>\n",
       "      <td>10.0</td>\n",
       "      <td>10.0</td>\n",
       "      <td>10.0</td>\n",
       "      <td>9.0</td>\n",
       "    </tr>\n",
       "    <tr>\n",
       "      <td>3</td>\n",
       "      <td>3330</td>\n",
       "      <td>4177</td>\n",
       "      <td>2019-01-09</td>\n",
       "      <td>3713</td>\n",
       "      <td>within a day</td>\n",
       "      <td>100</td>\n",
       "      <td>False</td>\n",
       "      <td>4.0</td>\n",
       "      <td>True</td>\n",
       "      <td>3</td>\n",
       "      <td>...</td>\n",
       "      <td>39</td>\n",
       "      <td>0.36</td>\n",
       "      <td>12</td>\n",
       "      <td>97.0</td>\n",
       "      <td>10.0</td>\n",
       "      <td>10.0</td>\n",
       "      <td>10.0</td>\n",
       "      <td>10.0</td>\n",
       "      <td>10.0</td>\n",
       "      <td>10.0</td>\n",
       "    </tr>\n",
       "    <tr>\n",
       "      <td>12</td>\n",
       "      <td>5238</td>\n",
       "      <td>7549</td>\n",
       "      <td>2019-01-09</td>\n",
       "      <td>3623</td>\n",
       "      <td>within a day</td>\n",
       "      <td>92</td>\n",
       "      <td>True</td>\n",
       "      <td>4.0</td>\n",
       "      <td>True</td>\n",
       "      <td>4</td>\n",
       "      <td>...</td>\n",
       "      <td>152</td>\n",
       "      <td>1.33</td>\n",
       "      <td>8</td>\n",
       "      <td>93.0</td>\n",
       "      <td>9.0</td>\n",
       "      <td>9.0</td>\n",
       "      <td>10.0</td>\n",
       "      <td>10.0</td>\n",
       "      <td>9.0</td>\n",
       "      <td>9.0</td>\n",
       "    </tr>\n",
       "    <tr>\n",
       "      <td>13</td>\n",
       "      <td>5295</td>\n",
       "      <td>7702</td>\n",
       "      <td>2019-01-09</td>\n",
       "      <td>3620</td>\n",
       "      <td>within a day</td>\n",
       "      <td>92</td>\n",
       "      <td>False</td>\n",
       "      <td>1.0</td>\n",
       "      <td>True</td>\n",
       "      <td>1</td>\n",
       "      <td>...</td>\n",
       "      <td>43</td>\n",
       "      <td>0.37</td>\n",
       "      <td>6</td>\n",
       "      <td>94.0</td>\n",
       "      <td>10.0</td>\n",
       "      <td>9.0</td>\n",
       "      <td>10.0</td>\n",
       "      <td>10.0</td>\n",
       "      <td>9.0</td>\n",
       "      <td>9.0</td>\n",
       "    </tr>\n",
       "  </tbody>\n",
       "</table>\n",
       "<p>5 rows × 54 columns</p>\n",
       "</div>"
      ],
      "text/plain": [
       "    listing_id  host_id last_scraped  experience host_response_time  \\\n",
       "1         2539     2787   2019-01-09        3776     within an hour   \n",
       "2         2595     2845   2019-01-09        3774       within a day   \n",
       "3         3330     4177   2019-01-09        3713       within a day   \n",
       "12        5238     7549   2019-01-09        3623       within a day   \n",
       "13        5295     7702   2019-01-09        3620       within a day   \n",
       "\n",
       "   host_response_rate  host_is_superhost  host_total_listings_count  \\\n",
       "1                 100               True                        8.0   \n",
       "2                  60              False                        5.0   \n",
       "3                 100              False                        4.0   \n",
       "12                 92               True                        4.0   \n",
       "13                 92              False                        1.0   \n",
       "\n",
       "    host_identity_verified  calculated_host_listings_count  ...  \\\n",
       "1                     True                               8  ...   \n",
       "2                     True                               2  ...   \n",
       "3                     True                               3  ...   \n",
       "12                    True                               4  ...   \n",
       "13                    True                               1  ...   \n",
       "\n",
       "    number_of_reviews  reviews_per_month  number_of_reviews_ltm  \\\n",
       "1                   9               0.24                      2   \n",
       "2                  43               0.39                     14   \n",
       "3                  39               0.36                     12   \n",
       "12                152               1.33                      8   \n",
       "13                 43               0.37                      6   \n",
       "\n",
       "   review_scores_rating review_scores_accuracy review_scores_cleanliness  \\\n",
       "1                  98.0                   10.0                      10.0   \n",
       "2                  95.0                    9.0                       9.0   \n",
       "3                  97.0                   10.0                      10.0   \n",
       "12                 93.0                    9.0                       9.0   \n",
       "13                 94.0                   10.0                       9.0   \n",
       "\n",
       "   review_scores_checkin  review_scores_communication  review_scores_location  \\\n",
       "1                   10.0                         10.0                    10.0   \n",
       "2                   10.0                         10.0                    10.0   \n",
       "3                   10.0                         10.0                    10.0   \n",
       "12                  10.0                         10.0                     9.0   \n",
       "13                  10.0                         10.0                     9.0   \n",
       "\n",
       "    review_scores_value  \n",
       "1                  10.0  \n",
       "2                   9.0  \n",
       "3                  10.0  \n",
       "12                  9.0  \n",
       "13                  9.0  \n",
       "\n",
       "[5 rows x 54 columns]"
      ]
     },
     "execution_count": 103,
     "metadata": {},
     "output_type": "execute_result"
    }
   ],
   "source": [
    "df.head()"
   ]
  },
  {
   "cell_type": "markdown",
   "metadata": {},
   "source": [
    "# Making listing data"
   ]
  },
  {
   "cell_type": "code",
   "execution_count": 3,
   "metadata": {},
   "outputs": [],
   "source": [
    "df = pd.read_csv(\"data/Jan2019-Feb2020_cleaned_data.csv\")"
   ]
  },
  {
   "cell_type": "code",
   "execution_count": 4,
   "metadata": {},
   "outputs": [
    {
     "data": {
      "text/plain": [
       "Index(['listing_id', 'host_id', 'last_scraped', 'experience',\n",
       "       'host_response_time', 'host_response_rate', 'host_is_superhost',\n",
       "       'host_total_listings_count', 'host_identity_verified',\n",
       "       'calculated_host_listings_count',\n",
       "       'calculated_host_listings_count_entire_homes',\n",
       "       'calculated_host_listings_count_private_rooms',\n",
       "       'calculated_host_listings_count_shared_rooms', 'neighbourhood',\n",
       "       'borough', 'property_type', 'room_type', 'bathrooms', 'bedrooms',\n",
       "       'beds', 'bed_type', 'amenities_count', 'is_wifi', 'is_kitchen',\n",
       "       'is_heating', 'is_smoke_detector', 'is_aircon', 'price',\n",
       "       'security_deposit', 'cleaning_fee', 'price_for_extra_people',\n",
       "       'guests_included', 'minimum_nights', 'maximum_nights',\n",
       "       'has_availability', 'availability_30', 'availability_60',\n",
       "       'availability_90', 'availability_365', 'is_instant_bookable',\n",
       "       'is_business_travel_ready', 'cancellation_policy',\n",
       "       'require_guest_profile_picture', 'require_guest_phone_verification',\n",
       "       'number_of_reviews', 'reviews_per_month', 'number_of_reviews_ltm',\n",
       "       'review_scores_rating', 'review_scores_accuracy',\n",
       "       'review_scores_cleanliness', 'review_scores_checkin',\n",
       "       'review_scores_communication', 'review_scores_location',\n",
       "       'review_scores_value'],\n",
       "      dtype='object')"
      ]
     },
     "execution_count": 4,
     "metadata": {},
     "output_type": "execute_result"
    }
   ],
   "source": [
    "df.columns"
   ]
  },
  {
   "cell_type": "code",
   "execution_count": 5,
   "metadata": {},
   "outputs": [],
   "source": [
    "unq_listings = pd.DataFrame()\n",
    "\n",
    "for id_,grp in df.groupby('listing_id'):\n",
    "    listing = {}\n",
    "    listing.update({'listing_id':id_})\n",
    "    listing.update({'host_exp' : max(grp['experience'].tolist())})\n",
    "    \n",
    "    for col in grp.columns:\n",
    "        if col != 'price' and col != 'last_scraped' and col != 'experience':\n",
    "            listing.update({col:max(set(grp[col].tolist()), key=grp[col].tolist().count)})\n",
    "            \n",
    "\n",
    "    for i in grp.index:\n",
    "        date_ = datetime.strptime(grp.loc[i,'last_scraped'], \"%Y-%m-%d\")\n",
    "        col = 'price_' + '{0:02d}'.format(date_.month) + '-' + '{0:04d}'.format(date_.year)\n",
    "        listing.update({col : grp.loc[i,'price']})\n",
    "        \n",
    "    listing.update({'mode_price': max(set(grp['price'].tolist()), key=grp['price'].tolist().count)})\n",
    "    unq_listings = unq_listings.append(listing, ignore_index=True)\n",
    "    \n",
    "unq_listings.to_csv(\"unique_listings.csv\", index=None)"
   ]
  },
  {
   "cell_type": "code",
   "execution_count": 12,
   "metadata": {},
   "outputs": [
    {
     "ename": "NameError",
     "evalue": "name 'head' is not defined",
     "output_type": "error",
     "traceback": [
      "\u001b[0;31m---------------------------------------------------------------------------\u001b[0m",
      "\u001b[0;31mNameError\u001b[0m                                 Traceback (most recent call last)",
      "\u001b[0;32m<ipython-input-12-1b7d785a53df>\u001b[0m in \u001b[0;36m<module>\u001b[0;34m\u001b[0m\n\u001b[1;32m      1\u001b[0m \u001b[0mdata\u001b[0m \u001b[0;34m=\u001b[0m \u001b[0mpd\u001b[0m\u001b[0;34m.\u001b[0m\u001b[0mread_csv\u001b[0m\u001b[0;34m(\u001b[0m\u001b[0;34m\"data/concatenated_listings.csv\"\u001b[0m\u001b[0;34m,\u001b[0m \u001b[0musecols\u001b[0m\u001b[0;34m=\u001b[0m\u001b[0;34m[\u001b[0m\u001b[0;34m'id'\u001b[0m\u001b[0;34m,\u001b[0m \u001b[0;34m'latitude'\u001b[0m\u001b[0;34m,\u001b[0m\u001b[0;34m'longitude'\u001b[0m\u001b[0;34m]\u001b[0m\u001b[0;34m)\u001b[0m\u001b[0;34m\u001b[0m\u001b[0;34m\u001b[0m\u001b[0m\n\u001b[0;32m----> 2\u001b[0;31m \u001b[0mhead\u001b[0m\u001b[0;34m(\u001b[0m\u001b[0munq_listing\u001b[0m\u001b[0;34m)\u001b[0m\u001b[0;34m\u001b[0m\u001b[0;34m\u001b[0m\u001b[0m\n\u001b[0m",
      "\u001b[0;31mNameError\u001b[0m: name 'head' is not defined"
     ]
    }
   ],
   "source": [
    "data = pd.read_csv(\"data/concatenated_listings.csv\", usecols=['id', 'latitude','longitude'])"
   ]
  },
  {
   "cell_type": "code",
   "execution_count": 15,
   "metadata": {},
   "outputs": [
    {
     "data": {
      "text/html": [
       "<div>\n",
       "<style scoped>\n",
       "    .dataframe tbody tr th:only-of-type {\n",
       "        vertical-align: middle;\n",
       "    }\n",
       "\n",
       "    .dataframe tbody tr th {\n",
       "        vertical-align: top;\n",
       "    }\n",
       "\n",
       "    .dataframe thead th {\n",
       "        text-align: right;\n",
       "    }\n",
       "</style>\n",
       "<table border=\"1\" class=\"dataframe\">\n",
       "  <thead>\n",
       "    <tr style=\"text-align: right;\">\n",
       "      <th></th>\n",
       "      <th>amenities_count</th>\n",
       "      <th>availability_30</th>\n",
       "      <th>availability_365</th>\n",
       "      <th>availability_60</th>\n",
       "      <th>availability_90</th>\n",
       "      <th>bathrooms</th>\n",
       "      <th>bed_type</th>\n",
       "      <th>bedrooms</th>\n",
       "      <th>beds</th>\n",
       "      <th>borough</th>\n",
       "      <th>...</th>\n",
       "      <th>reviews_per_month</th>\n",
       "      <th>room_type</th>\n",
       "      <th>security_deposit</th>\n",
       "      <th>price_01-2020</th>\n",
       "      <th>price_02-2020</th>\n",
       "      <th>price_08-2019</th>\n",
       "      <th>price_12-2019</th>\n",
       "      <th>price_09-2019</th>\n",
       "      <th>price_10-2019</th>\n",
       "      <th>price_11-2019</th>\n",
       "    </tr>\n",
       "  </thead>\n",
       "  <tbody>\n",
       "    <tr>\n",
       "      <th>0</th>\n",
       "      <td>44.0</td>\n",
       "      <td>30.0</td>\n",
       "      <td>365.0</td>\n",
       "      <td>60.0</td>\n",
       "      <td>90.0</td>\n",
       "      <td>1.0</td>\n",
       "      <td>Real Bed</td>\n",
       "      <td>1.0</td>\n",
       "      <td>1.0</td>\n",
       "      <td>Brooklyn</td>\n",
       "      <td>...</td>\n",
       "      <td>0.22</td>\n",
       "      <td>Private room</td>\n",
       "      <td>100.0</td>\n",
       "      <td>NaN</td>\n",
       "      <td>NaN</td>\n",
       "      <td>NaN</td>\n",
       "      <td>NaN</td>\n",
       "      <td>NaN</td>\n",
       "      <td>NaN</td>\n",
       "      <td>NaN</td>\n",
       "    </tr>\n",
       "    <tr>\n",
       "      <th>1</th>\n",
       "      <td>40.0</td>\n",
       "      <td>30.0</td>\n",
       "      <td>365.0</td>\n",
       "      <td>60.0</td>\n",
       "      <td>90.0</td>\n",
       "      <td>1.0</td>\n",
       "      <td>Real Bed</td>\n",
       "      <td>0.0</td>\n",
       "      <td>1.0</td>\n",
       "      <td>Manhattan</td>\n",
       "      <td>...</td>\n",
       "      <td>0.39</td>\n",
       "      <td>Entire home/apt</td>\n",
       "      <td>350.0</td>\n",
       "      <td>225.0</td>\n",
       "      <td>225.0</td>\n",
       "      <td>225.0</td>\n",
       "      <td>225.0</td>\n",
       "      <td>NaN</td>\n",
       "      <td>NaN</td>\n",
       "      <td>NaN</td>\n",
       "    </tr>\n",
       "    <tr>\n",
       "      <th>2</th>\n",
       "      <td>25.0</td>\n",
       "      <td>1.0</td>\n",
       "      <td>217.0</td>\n",
       "      <td>7.0</td>\n",
       "      <td>40.0</td>\n",
       "      <td>1.0</td>\n",
       "      <td>Real Bed</td>\n",
       "      <td>1.0</td>\n",
       "      <td>1.0</td>\n",
       "      <td>Brooklyn</td>\n",
       "      <td>...</td>\n",
       "      <td>0.35</td>\n",
       "      <td>Private room</td>\n",
       "      <td>150.0</td>\n",
       "      <td>NaN</td>\n",
       "      <td>NaN</td>\n",
       "      <td>NaN</td>\n",
       "      <td>NaN</td>\n",
       "      <td>NaN</td>\n",
       "      <td>NaN</td>\n",
       "      <td>NaN</td>\n",
       "    </tr>\n",
       "    <tr>\n",
       "      <th>3</th>\n",
       "      <td>22.0</td>\n",
       "      <td>5.0</td>\n",
       "      <td>14.0</td>\n",
       "      <td>33.0</td>\n",
       "      <td>14.0</td>\n",
       "      <td>1.0</td>\n",
       "      <td>Real Bed</td>\n",
       "      <td>1.0</td>\n",
       "      <td>1.0</td>\n",
       "      <td>Manhattan</td>\n",
       "      <td>...</td>\n",
       "      <td>0.58</td>\n",
       "      <td>Entire home/apt</td>\n",
       "      <td>300.0</td>\n",
       "      <td>NaN</td>\n",
       "      <td>NaN</td>\n",
       "      <td>200.0</td>\n",
       "      <td>NaN</td>\n",
       "      <td>200.0</td>\n",
       "      <td>200.0</td>\n",
       "      <td>200.0</td>\n",
       "    </tr>\n",
       "    <tr>\n",
       "      <th>4</th>\n",
       "      <td>15.0</td>\n",
       "      <td>12.0</td>\n",
       "      <td>322.0</td>\n",
       "      <td>17.0</td>\n",
       "      <td>72.0</td>\n",
       "      <td>1.0</td>\n",
       "      <td>Real Bed</td>\n",
       "      <td>1.0</td>\n",
       "      <td>1.0</td>\n",
       "      <td>Manhattan</td>\n",
       "      <td>...</td>\n",
       "      <td>0.74</td>\n",
       "      <td>Entire home/apt</td>\n",
       "      <td>500.0</td>\n",
       "      <td>NaN</td>\n",
       "      <td>NaN</td>\n",
       "      <td>116.0</td>\n",
       "      <td>NaN</td>\n",
       "      <td>116.0</td>\n",
       "      <td>NaN</td>\n",
       "      <td>NaN</td>\n",
       "    </tr>\n",
       "  </tbody>\n",
       "</table>\n",
       "<p>5 rows × 67 columns</p>\n",
       "</div>"
      ],
      "text/plain": [
       "   amenities_count  availability_30  availability_365  availability_60  \\\n",
       "0             44.0             30.0             365.0             60.0   \n",
       "1             40.0             30.0             365.0             60.0   \n",
       "2             25.0              1.0             217.0              7.0   \n",
       "3             22.0              5.0              14.0             33.0   \n",
       "4             15.0             12.0             322.0             17.0   \n",
       "\n",
       "   availability_90  bathrooms  bed_type  bedrooms  beds    borough  ...  \\\n",
       "0             90.0        1.0  Real Bed       1.0   1.0   Brooklyn  ...   \n",
       "1             90.0        1.0  Real Bed       0.0   1.0  Manhattan  ...   \n",
       "2             40.0        1.0  Real Bed       1.0   1.0   Brooklyn  ...   \n",
       "3             14.0        1.0  Real Bed       1.0   1.0  Manhattan  ...   \n",
       "4             72.0        1.0  Real Bed       1.0   1.0  Manhattan  ...   \n",
       "\n",
       "   reviews_per_month        room_type  security_deposit  price_01-2020  \\\n",
       "0               0.22     Private room             100.0            NaN   \n",
       "1               0.39  Entire home/apt             350.0          225.0   \n",
       "2               0.35     Private room             150.0            NaN   \n",
       "3               0.58  Entire home/apt             300.0            NaN   \n",
       "4               0.74  Entire home/apt             500.0            NaN   \n",
       "\n",
       "  price_02-2020  price_08-2019  price_12-2019  price_09-2019  price_10-2019  \\\n",
       "0           NaN            NaN            NaN            NaN            NaN   \n",
       "1         225.0          225.0          225.0            NaN            NaN   \n",
       "2           NaN            NaN            NaN            NaN            NaN   \n",
       "3           NaN          200.0            NaN          200.0          200.0   \n",
       "4           NaN          116.0            NaN          116.0            NaN   \n",
       "\n",
       "   price_11-2019  \n",
       "0            NaN  \n",
       "1            NaN  \n",
       "2            NaN  \n",
       "3          200.0  \n",
       "4            NaN  \n",
       "\n",
       "[5 rows x 67 columns]"
      ]
     },
     "execution_count": 15,
     "metadata": {},
     "output_type": "execute_result"
    }
   ],
   "source": [
    "unq_listings = pd.read_csv(\"unique_listings.csv\")\n",
    "unq_listings.head()"
   ]
  },
  {
   "cell_type": "code",
   "execution_count": 16,
   "metadata": {},
   "outputs": [
    {
     "data": {
      "text/plain": [
       "0    149.0\n",
       "1    225.0\n",
       "2     70.0\n",
       "3    200.0\n",
       "4    116.0\n",
       "Name: mode_price, dtype: float64"
      ]
     },
     "execution_count": 16,
     "metadata": {},
     "output_type": "execute_result"
    }
   ],
   "source": [
    "unq_listings['mode_price'].head()"
   ]
  },
  {
   "cell_type": "code",
   "execution_count": 18,
   "metadata": {},
   "outputs": [
    {
     "data": {
      "text/plain": [
       "35021"
      ]
     },
     "execution_count": 18,
     "metadata": {},
     "output_type": "execute_result"
    }
   ],
   "source": [
    "len(unq_listings.index)"
   ]
  },
  {
   "cell_type": "code",
   "execution_count": 19,
   "metadata": {},
   "outputs": [
    {
     "data": {
      "text/html": [
       "<div>\n",
       "<style scoped>\n",
       "    .dataframe tbody tr th:only-of-type {\n",
       "        vertical-align: middle;\n",
       "    }\n",
       "\n",
       "    .dataframe tbody tr th {\n",
       "        vertical-align: top;\n",
       "    }\n",
       "\n",
       "    .dataframe thead th {\n",
       "        text-align: right;\n",
       "    }\n",
       "</style>\n",
       "<table border=\"1\" class=\"dataframe\">\n",
       "  <thead>\n",
       "    <tr style=\"text-align: right;\">\n",
       "      <th></th>\n",
       "      <th>id</th>\n",
       "      <th>latitude</th>\n",
       "      <th>longitude</th>\n",
       "    </tr>\n",
       "  </thead>\n",
       "  <tbody>\n",
       "    <tr>\n",
       "      <th>0</th>\n",
       "      <td>2515</td>\n",
       "      <td>40.799205</td>\n",
       "      <td>-73.953676</td>\n",
       "    </tr>\n",
       "    <tr>\n",
       "      <th>1</th>\n",
       "      <td>2539</td>\n",
       "      <td>40.647486</td>\n",
       "      <td>-73.972370</td>\n",
       "    </tr>\n",
       "    <tr>\n",
       "      <th>2</th>\n",
       "      <td>2595</td>\n",
       "      <td>40.753621</td>\n",
       "      <td>-73.983774</td>\n",
       "    </tr>\n",
       "    <tr>\n",
       "      <th>3</th>\n",
       "      <td>3330</td>\n",
       "      <td>40.708558</td>\n",
       "      <td>-73.942362</td>\n",
       "    </tr>\n",
       "    <tr>\n",
       "      <th>4</th>\n",
       "      <td>3647</td>\n",
       "      <td>40.809018</td>\n",
       "      <td>-73.941902</td>\n",
       "    </tr>\n",
       "  </tbody>\n",
       "</table>\n",
       "</div>"
      ],
      "text/plain": [
       "     id   latitude  longitude\n",
       "0  2515  40.799205 -73.953676\n",
       "1  2539  40.647486 -73.972370\n",
       "2  2595  40.753621 -73.983774\n",
       "3  3330  40.708558 -73.942362\n",
       "4  3647  40.809018 -73.941902"
      ]
     },
     "execution_count": 19,
     "metadata": {},
     "output_type": "execute_result"
    }
   ],
   "source": [
    "data.head()"
   ]
  },
  {
   "cell_type": "code",
   "execution_count": 30,
   "metadata": {},
   "outputs": [],
   "source": [
    "data.columns = ['listing_id','latitude','longitude']\n",
    "unq_listings_ = pd.merge(unq_listings, data, on='listing_id')"
   ]
  },
  {
   "cell_type": "code",
   "execution_count": 31,
   "metadata": {},
   "outputs": [
    {
     "data": {
      "text/html": [
       "<div>\n",
       "<style scoped>\n",
       "    .dataframe tbody tr th:only-of-type {\n",
       "        vertical-align: middle;\n",
       "    }\n",
       "\n",
       "    .dataframe tbody tr th {\n",
       "        vertical-align: top;\n",
       "    }\n",
       "\n",
       "    .dataframe thead th {\n",
       "        text-align: right;\n",
       "    }\n",
       "</style>\n",
       "<table border=\"1\" class=\"dataframe\">\n",
       "  <thead>\n",
       "    <tr style=\"text-align: right;\">\n",
       "      <th></th>\n",
       "      <th>amenities_count</th>\n",
       "      <th>availability_30</th>\n",
       "      <th>availability_365</th>\n",
       "      <th>availability_60</th>\n",
       "      <th>availability_90</th>\n",
       "      <th>bathrooms</th>\n",
       "      <th>bed_type</th>\n",
       "      <th>bedrooms</th>\n",
       "      <th>beds</th>\n",
       "      <th>borough</th>\n",
       "      <th>...</th>\n",
       "      <th>security_deposit</th>\n",
       "      <th>price_01-2020</th>\n",
       "      <th>price_02-2020</th>\n",
       "      <th>price_08-2019</th>\n",
       "      <th>price_12-2019</th>\n",
       "      <th>price_09-2019</th>\n",
       "      <th>price_10-2019</th>\n",
       "      <th>price_11-2019</th>\n",
       "      <th>latitude</th>\n",
       "      <th>longitude</th>\n",
       "    </tr>\n",
       "  </thead>\n",
       "  <tbody>\n",
       "    <tr>\n",
       "      <th>0</th>\n",
       "      <td>44.0</td>\n",
       "      <td>30.0</td>\n",
       "      <td>365.0</td>\n",
       "      <td>60.0</td>\n",
       "      <td>90.0</td>\n",
       "      <td>1.0</td>\n",
       "      <td>Real Bed</td>\n",
       "      <td>1.0</td>\n",
       "      <td>1.0</td>\n",
       "      <td>Brooklyn</td>\n",
       "      <td>...</td>\n",
       "      <td>100.0</td>\n",
       "      <td>NaN</td>\n",
       "      <td>NaN</td>\n",
       "      <td>NaN</td>\n",
       "      <td>NaN</td>\n",
       "      <td>NaN</td>\n",
       "      <td>NaN</td>\n",
       "      <td>NaN</td>\n",
       "      <td>40.647486</td>\n",
       "      <td>-73.97237</td>\n",
       "    </tr>\n",
       "    <tr>\n",
       "      <th>1</th>\n",
       "      <td>44.0</td>\n",
       "      <td>30.0</td>\n",
       "      <td>365.0</td>\n",
       "      <td>60.0</td>\n",
       "      <td>90.0</td>\n",
       "      <td>1.0</td>\n",
       "      <td>Real Bed</td>\n",
       "      <td>1.0</td>\n",
       "      <td>1.0</td>\n",
       "      <td>Brooklyn</td>\n",
       "      <td>...</td>\n",
       "      <td>100.0</td>\n",
       "      <td>NaN</td>\n",
       "      <td>NaN</td>\n",
       "      <td>NaN</td>\n",
       "      <td>NaN</td>\n",
       "      <td>NaN</td>\n",
       "      <td>NaN</td>\n",
       "      <td>NaN</td>\n",
       "      <td>40.647486</td>\n",
       "      <td>-73.97237</td>\n",
       "    </tr>\n",
       "    <tr>\n",
       "      <th>2</th>\n",
       "      <td>44.0</td>\n",
       "      <td>30.0</td>\n",
       "      <td>365.0</td>\n",
       "      <td>60.0</td>\n",
       "      <td>90.0</td>\n",
       "      <td>1.0</td>\n",
       "      <td>Real Bed</td>\n",
       "      <td>1.0</td>\n",
       "      <td>1.0</td>\n",
       "      <td>Brooklyn</td>\n",
       "      <td>...</td>\n",
       "      <td>100.0</td>\n",
       "      <td>NaN</td>\n",
       "      <td>NaN</td>\n",
       "      <td>NaN</td>\n",
       "      <td>NaN</td>\n",
       "      <td>NaN</td>\n",
       "      <td>NaN</td>\n",
       "      <td>NaN</td>\n",
       "      <td>40.647490</td>\n",
       "      <td>-73.97237</td>\n",
       "    </tr>\n",
       "    <tr>\n",
       "      <th>3</th>\n",
       "      <td>44.0</td>\n",
       "      <td>30.0</td>\n",
       "      <td>365.0</td>\n",
       "      <td>60.0</td>\n",
       "      <td>90.0</td>\n",
       "      <td>1.0</td>\n",
       "      <td>Real Bed</td>\n",
       "      <td>1.0</td>\n",
       "      <td>1.0</td>\n",
       "      <td>Brooklyn</td>\n",
       "      <td>...</td>\n",
       "      <td>100.0</td>\n",
       "      <td>NaN</td>\n",
       "      <td>NaN</td>\n",
       "      <td>NaN</td>\n",
       "      <td>NaN</td>\n",
       "      <td>NaN</td>\n",
       "      <td>NaN</td>\n",
       "      <td>NaN</td>\n",
       "      <td>40.647490</td>\n",
       "      <td>-73.97237</td>\n",
       "    </tr>\n",
       "    <tr>\n",
       "      <th>4</th>\n",
       "      <td>44.0</td>\n",
       "      <td>30.0</td>\n",
       "      <td>365.0</td>\n",
       "      <td>60.0</td>\n",
       "      <td>90.0</td>\n",
       "      <td>1.0</td>\n",
       "      <td>Real Bed</td>\n",
       "      <td>1.0</td>\n",
       "      <td>1.0</td>\n",
       "      <td>Brooklyn</td>\n",
       "      <td>...</td>\n",
       "      <td>100.0</td>\n",
       "      <td>NaN</td>\n",
       "      <td>NaN</td>\n",
       "      <td>NaN</td>\n",
       "      <td>NaN</td>\n",
       "      <td>NaN</td>\n",
       "      <td>NaN</td>\n",
       "      <td>NaN</td>\n",
       "      <td>40.647490</td>\n",
       "      <td>-73.97237</td>\n",
       "    </tr>\n",
       "  </tbody>\n",
       "</table>\n",
       "<p>5 rows × 69 columns</p>\n",
       "</div>"
      ],
      "text/plain": [
       "   amenities_count  availability_30  availability_365  availability_60  \\\n",
       "0             44.0             30.0             365.0             60.0   \n",
       "1             44.0             30.0             365.0             60.0   \n",
       "2             44.0             30.0             365.0             60.0   \n",
       "3             44.0             30.0             365.0             60.0   \n",
       "4             44.0             30.0             365.0             60.0   \n",
       "\n",
       "   availability_90  bathrooms  bed_type  bedrooms  beds   borough  ...  \\\n",
       "0             90.0        1.0  Real Bed       1.0   1.0  Brooklyn  ...   \n",
       "1             90.0        1.0  Real Bed       1.0   1.0  Brooklyn  ...   \n",
       "2             90.0        1.0  Real Bed       1.0   1.0  Brooklyn  ...   \n",
       "3             90.0        1.0  Real Bed       1.0   1.0  Brooklyn  ...   \n",
       "4             90.0        1.0  Real Bed       1.0   1.0  Brooklyn  ...   \n",
       "\n",
       "   security_deposit  price_01-2020  price_02-2020  price_08-2019  \\\n",
       "0             100.0            NaN            NaN            NaN   \n",
       "1             100.0            NaN            NaN            NaN   \n",
       "2             100.0            NaN            NaN            NaN   \n",
       "3             100.0            NaN            NaN            NaN   \n",
       "4             100.0            NaN            NaN            NaN   \n",
       "\n",
       "  price_12-2019  price_09-2019  price_10-2019  price_11-2019   latitude  \\\n",
       "0           NaN            NaN            NaN            NaN  40.647486   \n",
       "1           NaN            NaN            NaN            NaN  40.647486   \n",
       "2           NaN            NaN            NaN            NaN  40.647490   \n",
       "3           NaN            NaN            NaN            NaN  40.647490   \n",
       "4           NaN            NaN            NaN            NaN  40.647490   \n",
       "\n",
       "   longitude  \n",
       "0  -73.97237  \n",
       "1  -73.97237  \n",
       "2  -73.97237  \n",
       "3  -73.97237  \n",
       "4  -73.97237  \n",
       "\n",
       "[5 rows x 69 columns]"
      ]
     },
     "execution_count": 31,
     "metadata": {},
     "output_type": "execute_result"
    }
   ],
   "source": [
    "unq_listings_.head()"
   ]
  },
  {
   "cell_type": "code",
   "execution_count": 32,
   "metadata": {},
   "outputs": [
    {
     "data": {
      "text/plain": [
       "Index(['amenities_count', 'availability_30', 'availability_365',\n",
       "       'availability_60', 'availability_90', 'bathrooms', 'bed_type',\n",
       "       'bedrooms', 'beds', 'borough', 'calculated_host_listings_count',\n",
       "       'calculated_host_listings_count_entire_homes',\n",
       "       'calculated_host_listings_count_private_rooms',\n",
       "       'calculated_host_listings_count_shared_rooms', 'cancellation_policy',\n",
       "       'cleaning_fee', 'guests_included', 'has_availability', 'host_exp',\n",
       "       'host_id', 'host_identity_verified', 'host_is_superhost',\n",
       "       'host_response_rate', 'host_response_time', 'host_total_listings_count',\n",
       "       'is_aircon', 'is_business_travel_ready', 'is_heating',\n",
       "       'is_instant_bookable', 'is_kitchen', 'is_smoke_detector', 'is_wifi',\n",
       "       'listing_id', 'maximum_nights', 'minimum_nights', 'mode_price',\n",
       "       'neighbourhood', 'number_of_reviews', 'number_of_reviews_ltm',\n",
       "       'price_01-2019', 'price_02-2019', 'price_03-2019', 'price_04-2019',\n",
       "       'price_05-2019', 'price_06-2019', 'price_07-2019',\n",
       "       'price_for_extra_people', 'property_type',\n",
       "       'require_guest_phone_verification', 'require_guest_profile_picture',\n",
       "       'review_scores_accuracy', 'review_scores_checkin',\n",
       "       'review_scores_cleanliness', 'review_scores_communication',\n",
       "       'review_scores_location', 'review_scores_rating', 'review_scores_value',\n",
       "       'reviews_per_month', 'room_type', 'security_deposit', 'price_01-2020',\n",
       "       'price_02-2020', 'price_08-2019', 'price_12-2019', 'price_09-2019',\n",
       "       'price_10-2019', 'price_11-2019', 'latitude', 'longitude'],\n",
       "      dtype='object')"
      ]
     },
     "execution_count": 32,
     "metadata": {},
     "output_type": "execute_result"
    }
   ],
   "source": [
    "unq_listings_.columns"
   ]
  },
  {
   "cell_type": "code",
   "execution_count": 33,
   "metadata": {},
   "outputs": [
    {
     "data": {
      "text/plain": [
       "180087"
      ]
     },
     "execution_count": 33,
     "metadata": {},
     "output_type": "execute_result"
    }
   ],
   "source": [
    "len(unq_listings_['listing_id'])"
   ]
  },
  {
   "cell_type": "code",
   "execution_count": 34,
   "metadata": {},
   "outputs": [
    {
     "data": {
      "text/plain": [
       "51692"
      ]
     },
     "execution_count": 34,
     "metadata": {},
     "output_type": "execute_result"
    }
   ],
   "source": [
    "unq_listings_ = unq_listings_.drop_duplicates()\n",
    "len(unq_listings_)"
   ]
  },
  {
   "cell_type": "code",
   "execution_count": 37,
   "metadata": {},
   "outputs": [],
   "source": [
    "unq_listings_.to_csv(\"data/unique_listings_with_loc.csv\",index=None)"
   ]
  },
  {
   "cell_type": "code",
   "execution_count": 38,
   "metadata": {},
   "outputs": [
    {
     "data": {
      "text/html": [
       "<div>\n",
       "<style scoped>\n",
       "    .dataframe tbody tr th:only-of-type {\n",
       "        vertical-align: middle;\n",
       "    }\n",
       "\n",
       "    .dataframe tbody tr th {\n",
       "        vertical-align: top;\n",
       "    }\n",
       "\n",
       "    .dataframe thead th {\n",
       "        text-align: right;\n",
       "    }\n",
       "</style>\n",
       "<table border=\"1\" class=\"dataframe\">\n",
       "  <thead>\n",
       "    <tr style=\"text-align: right;\">\n",
       "      <th></th>\n",
       "      <th>amenities_count</th>\n",
       "      <th>availability_30</th>\n",
       "      <th>availability_365</th>\n",
       "      <th>availability_60</th>\n",
       "      <th>availability_90</th>\n",
       "      <th>bathrooms</th>\n",
       "      <th>bed_type</th>\n",
       "      <th>bedrooms</th>\n",
       "      <th>beds</th>\n",
       "      <th>borough</th>\n",
       "      <th>...</th>\n",
       "      <th>security_deposit</th>\n",
       "      <th>price_01-2020</th>\n",
       "      <th>price_02-2020</th>\n",
       "      <th>price_08-2019</th>\n",
       "      <th>price_12-2019</th>\n",
       "      <th>price_09-2019</th>\n",
       "      <th>price_10-2019</th>\n",
       "      <th>price_11-2019</th>\n",
       "      <th>latitude</th>\n",
       "      <th>longitude</th>\n",
       "    </tr>\n",
       "  </thead>\n",
       "  <tbody>\n",
       "    <tr>\n",
       "      <th>0</th>\n",
       "      <td>44.0</td>\n",
       "      <td>30.0</td>\n",
       "      <td>365.0</td>\n",
       "      <td>60.0</td>\n",
       "      <td>90.0</td>\n",
       "      <td>1.0</td>\n",
       "      <td>Real Bed</td>\n",
       "      <td>1.0</td>\n",
       "      <td>1.0</td>\n",
       "      <td>Brooklyn</td>\n",
       "      <td>...</td>\n",
       "      <td>100.0</td>\n",
       "      <td>NaN</td>\n",
       "      <td>NaN</td>\n",
       "      <td>NaN</td>\n",
       "      <td>NaN</td>\n",
       "      <td>NaN</td>\n",
       "      <td>NaN</td>\n",
       "      <td>NaN</td>\n",
       "      <td>40.647486</td>\n",
       "      <td>-73.972370</td>\n",
       "    </tr>\n",
       "    <tr>\n",
       "      <th>2</th>\n",
       "      <td>44.0</td>\n",
       "      <td>30.0</td>\n",
       "      <td>365.0</td>\n",
       "      <td>60.0</td>\n",
       "      <td>90.0</td>\n",
       "      <td>1.0</td>\n",
       "      <td>Real Bed</td>\n",
       "      <td>1.0</td>\n",
       "      <td>1.0</td>\n",
       "      <td>Brooklyn</td>\n",
       "      <td>...</td>\n",
       "      <td>100.0</td>\n",
       "      <td>NaN</td>\n",
       "      <td>NaN</td>\n",
       "      <td>NaN</td>\n",
       "      <td>NaN</td>\n",
       "      <td>NaN</td>\n",
       "      <td>NaN</td>\n",
       "      <td>NaN</td>\n",
       "      <td>40.647490</td>\n",
       "      <td>-73.972370</td>\n",
       "    </tr>\n",
       "    <tr>\n",
       "      <th>7</th>\n",
       "      <td>40.0</td>\n",
       "      <td>30.0</td>\n",
       "      <td>365.0</td>\n",
       "      <td>60.0</td>\n",
       "      <td>90.0</td>\n",
       "      <td>1.0</td>\n",
       "      <td>Real Bed</td>\n",
       "      <td>0.0</td>\n",
       "      <td>1.0</td>\n",
       "      <td>Manhattan</td>\n",
       "      <td>...</td>\n",
       "      <td>350.0</td>\n",
       "      <td>225.0</td>\n",
       "      <td>225.0</td>\n",
       "      <td>225.0</td>\n",
       "      <td>225.0</td>\n",
       "      <td>NaN</td>\n",
       "      <td>NaN</td>\n",
       "      <td>NaN</td>\n",
       "      <td>40.753621</td>\n",
       "      <td>-73.983774</td>\n",
       "    </tr>\n",
       "    <tr>\n",
       "      <th>9</th>\n",
       "      <td>40.0</td>\n",
       "      <td>30.0</td>\n",
       "      <td>365.0</td>\n",
       "      <td>60.0</td>\n",
       "      <td>90.0</td>\n",
       "      <td>1.0</td>\n",
       "      <td>Real Bed</td>\n",
       "      <td>0.0</td>\n",
       "      <td>1.0</td>\n",
       "      <td>Manhattan</td>\n",
       "      <td>...</td>\n",
       "      <td>350.0</td>\n",
       "      <td>225.0</td>\n",
       "      <td>225.0</td>\n",
       "      <td>225.0</td>\n",
       "      <td>225.0</td>\n",
       "      <td>NaN</td>\n",
       "      <td>NaN</td>\n",
       "      <td>NaN</td>\n",
       "      <td>40.753620</td>\n",
       "      <td>-73.983770</td>\n",
       "    </tr>\n",
       "    <tr>\n",
       "      <th>15</th>\n",
       "      <td>25.0</td>\n",
       "      <td>1.0</td>\n",
       "      <td>217.0</td>\n",
       "      <td>7.0</td>\n",
       "      <td>40.0</td>\n",
       "      <td>1.0</td>\n",
       "      <td>Real Bed</td>\n",
       "      <td>1.0</td>\n",
       "      <td>1.0</td>\n",
       "      <td>Brooklyn</td>\n",
       "      <td>...</td>\n",
       "      <td>150.0</td>\n",
       "      <td>NaN</td>\n",
       "      <td>NaN</td>\n",
       "      <td>NaN</td>\n",
       "      <td>NaN</td>\n",
       "      <td>NaN</td>\n",
       "      <td>NaN</td>\n",
       "      <td>NaN</td>\n",
       "      <td>40.708558</td>\n",
       "      <td>-73.942362</td>\n",
       "    </tr>\n",
       "  </tbody>\n",
       "</table>\n",
       "<p>5 rows × 69 columns</p>\n",
       "</div>"
      ],
      "text/plain": [
       "    amenities_count  availability_30  availability_365  availability_60  \\\n",
       "0              44.0             30.0             365.0             60.0   \n",
       "2              44.0             30.0             365.0             60.0   \n",
       "7              40.0             30.0             365.0             60.0   \n",
       "9              40.0             30.0             365.0             60.0   \n",
       "15             25.0              1.0             217.0              7.0   \n",
       "\n",
       "    availability_90  bathrooms  bed_type  bedrooms  beds    borough  ...  \\\n",
       "0              90.0        1.0  Real Bed       1.0   1.0   Brooklyn  ...   \n",
       "2              90.0        1.0  Real Bed       1.0   1.0   Brooklyn  ...   \n",
       "7              90.0        1.0  Real Bed       0.0   1.0  Manhattan  ...   \n",
       "9              90.0        1.0  Real Bed       0.0   1.0  Manhattan  ...   \n",
       "15             40.0        1.0  Real Bed       1.0   1.0   Brooklyn  ...   \n",
       "\n",
       "    security_deposit  price_01-2020  price_02-2020  price_08-2019  \\\n",
       "0              100.0            NaN            NaN            NaN   \n",
       "2              100.0            NaN            NaN            NaN   \n",
       "7              350.0          225.0          225.0          225.0   \n",
       "9              350.0          225.0          225.0          225.0   \n",
       "15             150.0            NaN            NaN            NaN   \n",
       "\n",
       "   price_12-2019  price_09-2019  price_10-2019  price_11-2019   latitude  \\\n",
       "0            NaN            NaN            NaN            NaN  40.647486   \n",
       "2            NaN            NaN            NaN            NaN  40.647490   \n",
       "7          225.0            NaN            NaN            NaN  40.753621   \n",
       "9          225.0            NaN            NaN            NaN  40.753620   \n",
       "15           NaN            NaN            NaN            NaN  40.708558   \n",
       "\n",
       "    longitude  \n",
       "0  -73.972370  \n",
       "2  -73.972370  \n",
       "7  -73.983774  \n",
       "9  -73.983770  \n",
       "15 -73.942362  \n",
       "\n",
       "[5 rows x 69 columns]"
      ]
     },
     "execution_count": 38,
     "metadata": {},
     "output_type": "execute_result"
    }
   ],
   "source": [
    "unq_listings_.head()"
   ]
  },
  {
   "cell_type": "code",
   "execution_count": 65,
   "metadata": {},
   "outputs": [
    {
     "name": "stdout",
     "output_type": "stream",
     "text": [
      "16378563\n"
     ]
    },
    {
     "data": {
      "text/html": [
       "<div>\n",
       "<style scoped>\n",
       "    .dataframe tbody tr th:only-of-type {\n",
       "        vertical-align: middle;\n",
       "    }\n",
       "\n",
       "    .dataframe tbody tr th {\n",
       "        vertical-align: top;\n",
       "    }\n",
       "\n",
       "    .dataframe thead th {\n",
       "        text-align: right;\n",
       "    }\n",
       "</style>\n",
       "<table border=\"1\" class=\"dataframe\">\n",
       "  <thead>\n",
       "    <tr style=\"text-align: right;\">\n",
       "      <th></th>\n",
       "      <th>listing_id</th>\n",
       "      <th>date</th>\n",
       "    </tr>\n",
       "  </thead>\n",
       "  <tbody>\n",
       "    <tr>\n",
       "      <th>0</th>\n",
       "      <td>2539</td>\n",
       "      <td>2015-12-04</td>\n",
       "    </tr>\n",
       "    <tr>\n",
       "      <th>1</th>\n",
       "      <td>2539</td>\n",
       "      <td>2016-08-27</td>\n",
       "    </tr>\n",
       "    <tr>\n",
       "      <th>2</th>\n",
       "      <td>2539</td>\n",
       "      <td>2016-10-01</td>\n",
       "    </tr>\n",
       "    <tr>\n",
       "      <th>3</th>\n",
       "      <td>2539</td>\n",
       "      <td>2017-02-20</td>\n",
       "    </tr>\n",
       "    <tr>\n",
       "      <th>4</th>\n",
       "      <td>2539</td>\n",
       "      <td>2017-03-19</td>\n",
       "    </tr>\n",
       "  </tbody>\n",
       "</table>\n",
       "</div>"
      ],
      "text/plain": [
       "   listing_id        date\n",
       "0        2539  2015-12-04\n",
       "1        2539  2016-08-27\n",
       "2        2539  2016-10-01\n",
       "3        2539  2017-02-20\n",
       "4        2539  2017-03-19"
      ]
     },
     "execution_count": 65,
     "metadata": {},
     "output_type": "execute_result"
    }
   ],
   "source": [
    "rev = pd.read_csv(\"data/concatenated_reviews.csv\")\n",
    "print(len(rev.index))\n",
    "rev.head()"
   ]
  },
  {
   "cell_type": "code",
   "execution_count": 50,
   "metadata": {},
   "outputs": [
    {
     "data": {
      "text/html": [
       "<div>\n",
       "<style scoped>\n",
       "    .dataframe tbody tr th:only-of-type {\n",
       "        vertical-align: middle;\n",
       "    }\n",
       "\n",
       "    .dataframe tbody tr th {\n",
       "        vertical-align: top;\n",
       "    }\n",
       "\n",
       "    .dataframe thead th {\n",
       "        text-align: right;\n",
       "    }\n",
       "</style>\n",
       "<table border=\"1\" class=\"dataframe\">\n",
       "  <thead>\n",
       "    <tr style=\"text-align: right;\">\n",
       "      <th></th>\n",
       "      <th>listing_id</th>\n",
       "      <th>date</th>\n",
       "    </tr>\n",
       "  </thead>\n",
       "  <tbody>\n",
       "    <tr>\n",
       "      <th>0</th>\n",
       "      <td>2454</td>\n",
       "      <td>1</td>\n",
       "    </tr>\n",
       "    <tr>\n",
       "      <th>1</th>\n",
       "      <td>2515</td>\n",
       "      <td>175</td>\n",
       "    </tr>\n",
       "    <tr>\n",
       "      <th>2</th>\n",
       "      <td>2539</td>\n",
       "      <td>63</td>\n",
       "    </tr>\n",
       "    <tr>\n",
       "      <th>3</th>\n",
       "      <td>2595</td>\n",
       "      <td>494</td>\n",
       "    </tr>\n",
       "    <tr>\n",
       "      <th>4</th>\n",
       "      <td>3330</td>\n",
       "      <td>156</td>\n",
       "    </tr>\n",
       "  </tbody>\n",
       "</table>\n",
       "</div>"
      ],
      "text/plain": [
       "   listing_id  date\n",
       "0        2454     1\n",
       "1        2515   175\n",
       "2        2539    63\n",
       "3        2595   494\n",
       "4        3330   156"
      ]
     },
     "execution_count": 50,
     "metadata": {},
     "output_type": "execute_result"
    }
   ],
   "source": [
    "c_rev = rev.groupby('listing_id')['date'].count().reset_index()\n",
    "c_rev.head()"
   ]
  },
  {
   "cell_type": "code",
   "execution_count": 103,
   "metadata": {},
   "outputs": [
    {
     "data": {
      "text/plain": [
       "65124"
      ]
     },
     "execution_count": 103,
     "metadata": {},
     "output_type": "execute_result"
    }
   ],
   "source": [
    "c_rev.columns = ['listing_id','count_reviews']\n",
    "len(c_rev.index)"
   ]
  },
  {
   "cell_type": "code",
   "execution_count": null,
   "metadata": {},
   "outputs": [],
   "source": [
    "plt.hist(c_rev, bins=300)\n",
    "plt.savefig(\"histogram_listing_reviews.png\",dpi=300)\n",
    "plt.show()"
   ]
  },
  {
   "cell_type": "code",
   "execution_count": 104,
   "metadata": {},
   "outputs": [
    {
     "ename": "TypeError",
     "evalue": "strptime() argument 1 must be str, not Timestamp",
     "output_type": "error",
     "traceback": [
      "\u001b[0;31m---------------------------------------------------------------------------\u001b[0m",
      "\u001b[0;31mTypeError\u001b[0m                                 Traceback (most recent call last)",
      "\u001b[0;32m<ipython-input-104-1d5ad3f369e3>\u001b[0m in \u001b[0;36m<module>\u001b[0;34m\u001b[0m\n\u001b[0;32m----> 1\u001b[0;31m \u001b[0mrev\u001b[0m\u001b[0;34m[\u001b[0m\u001b[0;34m'date'\u001b[0m\u001b[0;34m]\u001b[0m \u001b[0;34m=\u001b[0m \u001b[0mrev\u001b[0m\u001b[0;34m[\u001b[0m\u001b[0;34m'date'\u001b[0m\u001b[0;34m]\u001b[0m\u001b[0;34m.\u001b[0m\u001b[0mapply\u001b[0m\u001b[0;34m(\u001b[0m\u001b[0;32mlambda\u001b[0m \u001b[0mx\u001b[0m\u001b[0;34m:\u001b[0m \u001b[0mdatetime\u001b[0m\u001b[0;34m.\u001b[0m\u001b[0mstrptime\u001b[0m\u001b[0;34m(\u001b[0m\u001b[0mx\u001b[0m\u001b[0;34m,\u001b[0m \u001b[0;34m\"%Y-%m-%d\"\u001b[0m\u001b[0;34m)\u001b[0m\u001b[0;34m)\u001b[0m\u001b[0;34m\u001b[0m\u001b[0;34m\u001b[0m\u001b[0m\n\u001b[0m\u001b[1;32m      2\u001b[0m \u001b[0mrev\u001b[0m\u001b[0;34m[\u001b[0m\u001b[0;34m'year'\u001b[0m\u001b[0;34m]\u001b[0m \u001b[0;34m=\u001b[0m \u001b[0mrev\u001b[0m\u001b[0;34m[\u001b[0m\u001b[0;34m'date'\u001b[0m\u001b[0;34m]\u001b[0m\u001b[0;34m.\u001b[0m\u001b[0mapply\u001b[0m\u001b[0;34m(\u001b[0m\u001b[0;32mlambda\u001b[0m \u001b[0mx\u001b[0m\u001b[0;34m:\u001b[0m \u001b[0mx\u001b[0m\u001b[0;34m.\u001b[0m\u001b[0myear\u001b[0m\u001b[0;34m)\u001b[0m\u001b[0;34m\u001b[0m\u001b[0;34m\u001b[0m\u001b[0m\n\u001b[1;32m      3\u001b[0m \u001b[0;34m\u001b[0m\u001b[0m\n\u001b[1;32m      4\u001b[0m \u001b[0mc_rev_date\u001b[0m \u001b[0;34m=\u001b[0m \u001b[0mrev\u001b[0m\u001b[0;34m.\u001b[0m\u001b[0mgroupby\u001b[0m\u001b[0;34m(\u001b[0m\u001b[0;34m'year'\u001b[0m\u001b[0;34m)\u001b[0m\u001b[0;34m[\u001b[0m\u001b[0;34m'listing_id'\u001b[0m\u001b[0;34m]\u001b[0m\u001b[0;34m.\u001b[0m\u001b[0mcount\u001b[0m\u001b[0;34m(\u001b[0m\u001b[0;34m)\u001b[0m\u001b[0;34m.\u001b[0m\u001b[0mreset_index\u001b[0m\u001b[0;34m(\u001b[0m\u001b[0;34m)\u001b[0m\u001b[0;34m\u001b[0m\u001b[0;34m\u001b[0m\u001b[0m\n\u001b[1;32m      5\u001b[0m \u001b[0mc_rev_date\u001b[0m\u001b[0;34m.\u001b[0m\u001b[0mcolumns\u001b[0m \u001b[0;34m=\u001b[0m \u001b[0;34m[\u001b[0m\u001b[0;34m'year'\u001b[0m\u001b[0;34m,\u001b[0m\u001b[0;34m'count_reviews_date'\u001b[0m\u001b[0;34m]\u001b[0m\u001b[0;34m\u001b[0m\u001b[0;34m\u001b[0m\u001b[0m\n",
      "\u001b[0;32m~/anaconda3/lib/python3.7/site-packages/pandas/core/series.py\u001b[0m in \u001b[0;36mapply\u001b[0;34m(self, func, convert_dtype, args, **kwds)\u001b[0m\n\u001b[1;32m   3589\u001b[0m             \u001b[0;32melse\u001b[0m\u001b[0;34m:\u001b[0m\u001b[0;34m\u001b[0m\u001b[0;34m\u001b[0m\u001b[0m\n\u001b[1;32m   3590\u001b[0m                 \u001b[0mvalues\u001b[0m \u001b[0;34m=\u001b[0m \u001b[0mself\u001b[0m\u001b[0;34m.\u001b[0m\u001b[0mastype\u001b[0m\u001b[0;34m(\u001b[0m\u001b[0mobject\u001b[0m\u001b[0;34m)\u001b[0m\u001b[0;34m.\u001b[0m\u001b[0mvalues\u001b[0m\u001b[0;34m\u001b[0m\u001b[0;34m\u001b[0m\u001b[0m\n\u001b[0;32m-> 3591\u001b[0;31m                 \u001b[0mmapped\u001b[0m \u001b[0;34m=\u001b[0m \u001b[0mlib\u001b[0m\u001b[0;34m.\u001b[0m\u001b[0mmap_infer\u001b[0m\u001b[0;34m(\u001b[0m\u001b[0mvalues\u001b[0m\u001b[0;34m,\u001b[0m \u001b[0mf\u001b[0m\u001b[0;34m,\u001b[0m \u001b[0mconvert\u001b[0m\u001b[0;34m=\u001b[0m\u001b[0mconvert_dtype\u001b[0m\u001b[0;34m)\u001b[0m\u001b[0;34m\u001b[0m\u001b[0;34m\u001b[0m\u001b[0m\n\u001b[0m\u001b[1;32m   3592\u001b[0m \u001b[0;34m\u001b[0m\u001b[0m\n\u001b[1;32m   3593\u001b[0m         \u001b[0;32mif\u001b[0m \u001b[0mlen\u001b[0m\u001b[0;34m(\u001b[0m\u001b[0mmapped\u001b[0m\u001b[0;34m)\u001b[0m \u001b[0;32mand\u001b[0m \u001b[0misinstance\u001b[0m\u001b[0;34m(\u001b[0m\u001b[0mmapped\u001b[0m\u001b[0;34m[\u001b[0m\u001b[0;36m0\u001b[0m\u001b[0;34m]\u001b[0m\u001b[0;34m,\u001b[0m \u001b[0mSeries\u001b[0m\u001b[0;34m)\u001b[0m\u001b[0;34m:\u001b[0m\u001b[0;34m\u001b[0m\u001b[0;34m\u001b[0m\u001b[0m\n",
      "\u001b[0;32mpandas/_libs/lib.pyx\u001b[0m in \u001b[0;36mpandas._libs.lib.map_infer\u001b[0;34m()\u001b[0m\n",
      "\u001b[0;32m<ipython-input-104-1d5ad3f369e3>\u001b[0m in \u001b[0;36m<lambda>\u001b[0;34m(x)\u001b[0m\n\u001b[0;32m----> 1\u001b[0;31m \u001b[0mrev\u001b[0m\u001b[0;34m[\u001b[0m\u001b[0;34m'date'\u001b[0m\u001b[0;34m]\u001b[0m \u001b[0;34m=\u001b[0m \u001b[0mrev\u001b[0m\u001b[0;34m[\u001b[0m\u001b[0;34m'date'\u001b[0m\u001b[0;34m]\u001b[0m\u001b[0;34m.\u001b[0m\u001b[0mapply\u001b[0m\u001b[0;34m(\u001b[0m\u001b[0;32mlambda\u001b[0m \u001b[0mx\u001b[0m\u001b[0;34m:\u001b[0m \u001b[0mdatetime\u001b[0m\u001b[0;34m.\u001b[0m\u001b[0mstrptime\u001b[0m\u001b[0;34m(\u001b[0m\u001b[0mx\u001b[0m\u001b[0;34m,\u001b[0m \u001b[0;34m\"%Y-%m-%d\"\u001b[0m\u001b[0;34m)\u001b[0m\u001b[0;34m)\u001b[0m\u001b[0;34m\u001b[0m\u001b[0;34m\u001b[0m\u001b[0m\n\u001b[0m\u001b[1;32m      2\u001b[0m \u001b[0mrev\u001b[0m\u001b[0;34m[\u001b[0m\u001b[0;34m'year'\u001b[0m\u001b[0;34m]\u001b[0m \u001b[0;34m=\u001b[0m \u001b[0mrev\u001b[0m\u001b[0;34m[\u001b[0m\u001b[0;34m'date'\u001b[0m\u001b[0;34m]\u001b[0m\u001b[0;34m.\u001b[0m\u001b[0mapply\u001b[0m\u001b[0;34m(\u001b[0m\u001b[0;32mlambda\u001b[0m \u001b[0mx\u001b[0m\u001b[0;34m:\u001b[0m \u001b[0mx\u001b[0m\u001b[0;34m.\u001b[0m\u001b[0myear\u001b[0m\u001b[0;34m)\u001b[0m\u001b[0;34m\u001b[0m\u001b[0;34m\u001b[0m\u001b[0m\n\u001b[1;32m      3\u001b[0m \u001b[0;34m\u001b[0m\u001b[0m\n\u001b[1;32m      4\u001b[0m \u001b[0mc_rev_date\u001b[0m \u001b[0;34m=\u001b[0m \u001b[0mrev\u001b[0m\u001b[0;34m.\u001b[0m\u001b[0mgroupby\u001b[0m\u001b[0;34m(\u001b[0m\u001b[0;34m'year'\u001b[0m\u001b[0;34m)\u001b[0m\u001b[0;34m[\u001b[0m\u001b[0;34m'listing_id'\u001b[0m\u001b[0;34m]\u001b[0m\u001b[0;34m.\u001b[0m\u001b[0mcount\u001b[0m\u001b[0;34m(\u001b[0m\u001b[0;34m)\u001b[0m\u001b[0;34m.\u001b[0m\u001b[0mreset_index\u001b[0m\u001b[0;34m(\u001b[0m\u001b[0;34m)\u001b[0m\u001b[0;34m\u001b[0m\u001b[0;34m\u001b[0m\u001b[0m\n\u001b[1;32m      5\u001b[0m \u001b[0mc_rev_date\u001b[0m\u001b[0;34m.\u001b[0m\u001b[0mcolumns\u001b[0m \u001b[0;34m=\u001b[0m \u001b[0;34m[\u001b[0m\u001b[0;34m'year'\u001b[0m\u001b[0;34m,\u001b[0m\u001b[0;34m'count_reviews_date'\u001b[0m\u001b[0;34m]\u001b[0m\u001b[0;34m\u001b[0m\u001b[0;34m\u001b[0m\u001b[0m\n",
      "\u001b[0;31mTypeError\u001b[0m: strptime() argument 1 must be str, not Timestamp"
     ]
    }
   ],
   "source": [
    "rev['date'] = rev['date'].apply(lambda x: datetime.strptime(x, \"%Y-%m-%d\"))\n",
    "rev['year'] = rev['date'].apply(lambda x: x.year)\n",
    "\n",
    "c_rev_date = rev.groupby('year')['listing_id'].count().reset_index()\n",
    "c_rev_date.columns = ['year','count_reviews_date']\n",
    "print(c_rev_date.head())"
   ]
  },
  {
   "cell_type": "code",
   "execution_count": 69,
   "metadata": {},
   "outputs": [
    {
     "data": {
      "image/png": "[encoded data removed]",
      "text/plain": [
       "<Figure size 720x360 with 1 Axes>"
      ]
     },
     "metadata": {
      "needs_background": "light"
     },
     "output_type": "display_data"
    }
   ],
   "source": [
    "plt.figure(figsize=(10,5))\n",
    "plt.plot(c_rev_date['year'],c_rev_date['count_reviews_date'])\n",
    "plt.show()"
   ]
  },
  {
   "cell_type": "code",
   "execution_count": 84,
   "metadata": {},
   "outputs": [
    {
     "data": {
      "text/html": [
       "<div>\n",
       "<style scoped>\n",
       "    .dataframe tbody tr th:only-of-type {\n",
       "        vertical-align: middle;\n",
       "    }\n",
       "\n",
       "    .dataframe tbody tr th {\n",
       "        vertical-align: top;\n",
       "    }\n",
       "\n",
       "    .dataframe thead th {\n",
       "        text-align: right;\n",
       "    }\n",
       "</style>\n",
       "<table border=\"1\" class=\"dataframe\">\n",
       "  <thead>\n",
       "    <tr style=\"text-align: right;\">\n",
       "      <th></th>\n",
       "      <th>listing_id</th>\n",
       "      <th>date</th>\n",
       "      <th>year</th>\n",
       "      <th>month_year</th>\n",
       "    </tr>\n",
       "  </thead>\n",
       "  <tbody>\n",
       "    <tr>\n",
       "      <th>0</th>\n",
       "      <td>2539</td>\n",
       "      <td>2015-12-04</td>\n",
       "      <td>2015</td>\n",
       "      <td>12-2015</td>\n",
       "    </tr>\n",
       "    <tr>\n",
       "      <th>1</th>\n",
       "      <td>2539</td>\n",
       "      <td>2016-08-27</td>\n",
       "      <td>2016</td>\n",
       "      <td>08-2016</td>\n",
       "    </tr>\n",
       "    <tr>\n",
       "      <th>2</th>\n",
       "      <td>2539</td>\n",
       "      <td>2016-10-01</td>\n",
       "      <td>2016</td>\n",
       "      <td>10-2016</td>\n",
       "    </tr>\n",
       "    <tr>\n",
       "      <th>3</th>\n",
       "      <td>2539</td>\n",
       "      <td>2017-02-20</td>\n",
       "      <td>2017</td>\n",
       "      <td>02-2017</td>\n",
       "    </tr>\n",
       "    <tr>\n",
       "      <th>4</th>\n",
       "      <td>2539</td>\n",
       "      <td>2017-03-19</td>\n",
       "      <td>2017</td>\n",
       "      <td>03-2017</td>\n",
       "    </tr>\n",
       "  </tbody>\n",
       "</table>\n",
       "</div>"
      ],
      "text/plain": [
       "   listing_id       date  year month_year\n",
       "0        2539 2015-12-04  2015    12-2015\n",
       "1        2539 2016-08-27  2016    08-2016\n",
       "2        2539 2016-10-01  2016    10-2016\n",
       "3        2539 2017-02-20  2017    02-2017\n",
       "4        2539 2017-03-19  2017    03-2017"
      ]
     },
     "execution_count": 84,
     "metadata": {},
     "output_type": "execute_result"
    }
   ],
   "source": [
    "rev.head()"
   ]
  },
  {
   "cell_type": "code",
   "execution_count": 94,
   "metadata": {},
   "outputs": [],
   "source": [
    "#rev['month_year'] = rev['date'].apply(lambda x: '{0:02d}'.format(x.month) + '-' + '{0:04d}'.format(x.year))\n",
    "rev_y = rev[rev['year'] > 2017]\n",
    "g_rev = rev.groupby(['date', 'listing_id']).count().reset_index()\n",
    "g_rev.head()\n",
    "del g_rev['year']\n",
    "g_rev.columns = ['date','listing_id','count_reviews_month']"
   ]
  },
  {
   "cell_type": "code",
   "execution_count": 96,
   "metadata": {},
   "outputs": [
    {
     "data": {
      "image/png": "[encoded data removed]",
      "text/plain": [
       "<Figure size 720x288 with 1 Axes>"
      ]
     },
     "metadata": {
      "needs_background": "light"
     },
     "output_type": "display_data"
    }
   ],
   "source": [
    "plt.figure(figsize=(10,4))\n",
    "plt.scatter(g_rev['date'],g_rev['count_reviews_month'])\n",
    "plt.savefig('number_of_reviews.png',dpi=300)\n",
    "plt.show()"
   ]
  },
  {
   "cell_type": "code",
   "execution_count": null,
   "metadata": {},
   "outputs": [],
   "source": []
  },
  {
   "cell_type": "code",
   "execution_count": 75,
   "metadata": {},
   "outputs": [
    {
     "data": {
      "text/plain": [
       "51692"
      ]
     },
     "execution_count": 75,
     "metadata": {},
     "output_type": "execute_result"
    }
   ],
   "source": [
    "unq_listings_rev_ = pd.merge(unq_listings_, c_rev, on='listing_id')\n",
    "len(unq_listings_rev_)"
   ]
  },
  {
   "cell_type": "code",
   "execution_count": 76,
   "metadata": {},
   "outputs": [
    {
     "data": {
      "text/html": [
       "<div>\n",
       "<style scoped>\n",
       "    .dataframe tbody tr th:only-of-type {\n",
       "        vertical-align: middle;\n",
       "    }\n",
       "\n",
       "    .dataframe tbody tr th {\n",
       "        vertical-align: top;\n",
       "    }\n",
       "\n",
       "    .dataframe thead th {\n",
       "        text-align: right;\n",
       "    }\n",
       "</style>\n",
       "<table border=\"1\" class=\"dataframe\">\n",
       "  <thead>\n",
       "    <tr style=\"text-align: right;\">\n",
       "      <th></th>\n",
       "      <th>amenities_count</th>\n",
       "      <th>availability_30</th>\n",
       "      <th>availability_365</th>\n",
       "      <th>availability_60</th>\n",
       "      <th>availability_90</th>\n",
       "      <th>bathrooms</th>\n",
       "      <th>bed_type</th>\n",
       "      <th>bedrooms</th>\n",
       "      <th>beds</th>\n",
       "      <th>borough</th>\n",
       "      <th>...</th>\n",
       "      <th>price_01-2020</th>\n",
       "      <th>price_02-2020</th>\n",
       "      <th>price_08-2019</th>\n",
       "      <th>price_12-2019</th>\n",
       "      <th>price_09-2019</th>\n",
       "      <th>price_10-2019</th>\n",
       "      <th>price_11-2019</th>\n",
       "      <th>latitude</th>\n",
       "      <th>longitude</th>\n",
       "      <th>count_reviews</th>\n",
       "    </tr>\n",
       "  </thead>\n",
       "  <tbody>\n",
       "    <tr>\n",
       "      <th>0</th>\n",
       "      <td>44.0</td>\n",
       "      <td>30.0</td>\n",
       "      <td>365.0</td>\n",
       "      <td>60.0</td>\n",
       "      <td>90.0</td>\n",
       "      <td>1.0</td>\n",
       "      <td>Real Bed</td>\n",
       "      <td>1.0</td>\n",
       "      <td>1.0</td>\n",
       "      <td>Brooklyn</td>\n",
       "      <td>...</td>\n",
       "      <td>NaN</td>\n",
       "      <td>NaN</td>\n",
       "      <td>NaN</td>\n",
       "      <td>NaN</td>\n",
       "      <td>NaN</td>\n",
       "      <td>NaN</td>\n",
       "      <td>NaN</td>\n",
       "      <td>40.647486</td>\n",
       "      <td>-73.972370</td>\n",
       "      <td>63</td>\n",
       "    </tr>\n",
       "    <tr>\n",
       "      <th>1</th>\n",
       "      <td>44.0</td>\n",
       "      <td>30.0</td>\n",
       "      <td>365.0</td>\n",
       "      <td>60.0</td>\n",
       "      <td>90.0</td>\n",
       "      <td>1.0</td>\n",
       "      <td>Real Bed</td>\n",
       "      <td>1.0</td>\n",
       "      <td>1.0</td>\n",
       "      <td>Brooklyn</td>\n",
       "      <td>...</td>\n",
       "      <td>NaN</td>\n",
       "      <td>NaN</td>\n",
       "      <td>NaN</td>\n",
       "      <td>NaN</td>\n",
       "      <td>NaN</td>\n",
       "      <td>NaN</td>\n",
       "      <td>NaN</td>\n",
       "      <td>40.647490</td>\n",
       "      <td>-73.972370</td>\n",
       "      <td>63</td>\n",
       "    </tr>\n",
       "    <tr>\n",
       "      <th>2</th>\n",
       "      <td>40.0</td>\n",
       "      <td>30.0</td>\n",
       "      <td>365.0</td>\n",
       "      <td>60.0</td>\n",
       "      <td>90.0</td>\n",
       "      <td>1.0</td>\n",
       "      <td>Real Bed</td>\n",
       "      <td>0.0</td>\n",
       "      <td>1.0</td>\n",
       "      <td>Manhattan</td>\n",
       "      <td>...</td>\n",
       "      <td>225.0</td>\n",
       "      <td>225.0</td>\n",
       "      <td>225.0</td>\n",
       "      <td>225.0</td>\n",
       "      <td>NaN</td>\n",
       "      <td>NaN</td>\n",
       "      <td>NaN</td>\n",
       "      <td>40.753621</td>\n",
       "      <td>-73.983774</td>\n",
       "      <td>494</td>\n",
       "    </tr>\n",
       "    <tr>\n",
       "      <th>3</th>\n",
       "      <td>40.0</td>\n",
       "      <td>30.0</td>\n",
       "      <td>365.0</td>\n",
       "      <td>60.0</td>\n",
       "      <td>90.0</td>\n",
       "      <td>1.0</td>\n",
       "      <td>Real Bed</td>\n",
       "      <td>0.0</td>\n",
       "      <td>1.0</td>\n",
       "      <td>Manhattan</td>\n",
       "      <td>...</td>\n",
       "      <td>225.0</td>\n",
       "      <td>225.0</td>\n",
       "      <td>225.0</td>\n",
       "      <td>225.0</td>\n",
       "      <td>NaN</td>\n",
       "      <td>NaN</td>\n",
       "      <td>NaN</td>\n",
       "      <td>40.753620</td>\n",
       "      <td>-73.983770</td>\n",
       "      <td>494</td>\n",
       "    </tr>\n",
       "    <tr>\n",
       "      <th>4</th>\n",
       "      <td>25.0</td>\n",
       "      <td>1.0</td>\n",
       "      <td>217.0</td>\n",
       "      <td>7.0</td>\n",
       "      <td>40.0</td>\n",
       "      <td>1.0</td>\n",
       "      <td>Real Bed</td>\n",
       "      <td>1.0</td>\n",
       "      <td>1.0</td>\n",
       "      <td>Brooklyn</td>\n",
       "      <td>...</td>\n",
       "      <td>NaN</td>\n",
       "      <td>NaN</td>\n",
       "      <td>NaN</td>\n",
       "      <td>NaN</td>\n",
       "      <td>NaN</td>\n",
       "      <td>NaN</td>\n",
       "      <td>NaN</td>\n",
       "      <td>40.708558</td>\n",
       "      <td>-73.942362</td>\n",
       "      <td>156</td>\n",
       "    </tr>\n",
       "  </tbody>\n",
       "</table>\n",
       "<p>5 rows × 70 columns</p>\n",
       "</div>"
      ],
      "text/plain": [
       "   amenities_count  availability_30  availability_365  availability_60  \\\n",
       "0             44.0             30.0             365.0             60.0   \n",
       "1             44.0             30.0             365.0             60.0   \n",
       "2             40.0             30.0             365.0             60.0   \n",
       "3             40.0             30.0             365.0             60.0   \n",
       "4             25.0              1.0             217.0              7.0   \n",
       "\n",
       "   availability_90  bathrooms  bed_type  bedrooms  beds    borough  ...  \\\n",
       "0             90.0        1.0  Real Bed       1.0   1.0   Brooklyn  ...   \n",
       "1             90.0        1.0  Real Bed       1.0   1.0   Brooklyn  ...   \n",
       "2             90.0        1.0  Real Bed       0.0   1.0  Manhattan  ...   \n",
       "3             90.0        1.0  Real Bed       0.0   1.0  Manhattan  ...   \n",
       "4             40.0        1.0  Real Bed       1.0   1.0   Brooklyn  ...   \n",
       "\n",
       "   price_01-2020  price_02-2020  price_08-2019  price_12-2019 price_09-2019  \\\n",
       "0            NaN            NaN            NaN            NaN           NaN   \n",
       "1            NaN            NaN            NaN            NaN           NaN   \n",
       "2          225.0          225.0          225.0          225.0           NaN   \n",
       "3          225.0          225.0          225.0          225.0           NaN   \n",
       "4            NaN            NaN            NaN            NaN           NaN   \n",
       "\n",
       "   price_10-2019  price_11-2019   latitude  longitude  count_reviews  \n",
       "0            NaN            NaN  40.647486 -73.972370             63  \n",
       "1            NaN            NaN  40.647490 -73.972370             63  \n",
       "2            NaN            NaN  40.753621 -73.983774            494  \n",
       "3            NaN            NaN  40.753620 -73.983770            494  \n",
       "4            NaN            NaN  40.708558 -73.942362            156  \n",
       "\n",
       "[5 rows x 70 columns]"
      ]
     },
     "execution_count": 76,
     "metadata": {},
     "output_type": "execute_result"
    }
   ],
   "source": [
    "unq_listings_rev_.head()"
   ]
  },
  {
   "cell_type": "code",
   "execution_count": 77,
   "metadata": {},
   "outputs": [],
   "source": [
    "unq_listings_rev_.to_csv(\"data/unq_listings_loc_rev.csv\")"
   ]
  },
  {
   "cell_type": "code",
   "execution_count": null,
   "metadata": {},
   "outputs": [],
   "source": []
  }
 ],
 "metadata": {
  "kernelspec": {
   "display_name": "Python 3",
   "language": "python",
   "name": "python3"
  },
  "language_info": {
   "codemirror_mode": {
    "name": "ipython",
    "version": 3
   },
   "file_extension": ".py",
   "mimetype": "text/x-python",
   "name": "python",
   "nbconvert_exporter": "python",
   "pygments_lexer": "ipython3",
   "version": "3.7.3"
  }
 },
 "nbformat": 4,
 "nbformat_minor": 4
}
